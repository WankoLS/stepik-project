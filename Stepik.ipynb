{
 "cells": [
  {
   "cell_type": "code",
   "execution_count": 171,
   "metadata": {
    "ExecuteTime": {
     "end_time": "2020-02-13T07:16:08.543788Z",
     "start_time": "2020-02-13T07:16:08.537803Z"
    }
   },
   "outputs": [],
   "source": [
    "import pandas as pd\n",
    "import numpy as np\n",
    "import sklearn\n",
    "import matplotlib.pyplot as plt\n",
    "import seaborn as sns\n",
    "%matplotlib inline\n",
    "plt.style.use('dark_background')"
   ]
  },
  {
   "cell_type": "code",
   "execution_count": 63,
   "metadata": {
    "ExecuteTime": {
     "end_time": "2020-02-13T04:42:19.840258Z",
     "start_time": "2020-02-13T04:42:19.825273Z"
    }
   },
   "outputs": [
    {
     "data": {
      "text/html": [
       "<style>svg{width:80% !important;height:80% !important;</style>"
      ],
      "text/plain": [
       "<IPython.core.display.HTML object>"
      ]
     },
     "execution_count": 63,
     "metadata": {},
     "output_type": "execute_result"
    }
   ],
   "source": [
    "from IPython.display import SVG\n",
    "from graphviz import Source\n",
    "from IPython.display import display\n",
    "\n",
    "from IPython.display import HTML\n",
    "style = \"<style>svg{width:80% !important;height:80% !important;</style>\"\n",
    "HTML(style)"
   ]
  },
  {
   "cell_type": "code",
   "execution_count": 64,
   "metadata": {
    "ExecuteTime": {
     "end_time": "2020-02-13T04:42:19.868185Z",
     "start_time": "2020-02-13T04:42:19.843225Z"
    }
   },
   "outputs": [
    {
     "data": {
      "text/html": [
       "<div>\n",
       "<style scoped>\n",
       "    .dataframe tbody tr th:only-of-type {\n",
       "        vertical-align: middle;\n",
       "    }\n",
       "\n",
       "    .dataframe tbody tr th {\n",
       "        vertical-align: top;\n",
       "    }\n",
       "\n",
       "    .dataframe thead th {\n",
       "        text-align: right;\n",
       "    }\n",
       "</style>\n",
       "<table border=\"1\" class=\"dataframe\">\n",
       "  <thead>\n",
       "    <tr style=\"text-align: right;\">\n",
       "      <th></th>\n",
       "      <th>PassengerId</th>\n",
       "      <th>Survived</th>\n",
       "      <th>Pclass</th>\n",
       "      <th>Name</th>\n",
       "      <th>Sex</th>\n",
       "      <th>Age</th>\n",
       "      <th>SibSp</th>\n",
       "      <th>Parch</th>\n",
       "      <th>Ticket</th>\n",
       "      <th>Fare</th>\n",
       "      <th>Cabin</th>\n",
       "      <th>Embarked</th>\n",
       "    </tr>\n",
       "  </thead>\n",
       "  <tbody>\n",
       "    <tr>\n",
       "      <th>0</th>\n",
       "      <td>1</td>\n",
       "      <td>0</td>\n",
       "      <td>3</td>\n",
       "      <td>Braund, Mr. Owen Harris</td>\n",
       "      <td>male</td>\n",
       "      <td>22.0</td>\n",
       "      <td>1</td>\n",
       "      <td>0</td>\n",
       "      <td>A/5 21171</td>\n",
       "      <td>7.2500</td>\n",
       "      <td>NaN</td>\n",
       "      <td>S</td>\n",
       "    </tr>\n",
       "    <tr>\n",
       "      <th>1</th>\n",
       "      <td>2</td>\n",
       "      <td>1</td>\n",
       "      <td>1</td>\n",
       "      <td>Cumings, Mrs. John Bradley (Florence Briggs Th...</td>\n",
       "      <td>female</td>\n",
       "      <td>38.0</td>\n",
       "      <td>1</td>\n",
       "      <td>0</td>\n",
       "      <td>PC 17599</td>\n",
       "      <td>71.2833</td>\n",
       "      <td>C85</td>\n",
       "      <td>C</td>\n",
       "    </tr>\n",
       "    <tr>\n",
       "      <th>2</th>\n",
       "      <td>3</td>\n",
       "      <td>1</td>\n",
       "      <td>3</td>\n",
       "      <td>Heikkinen, Miss. Laina</td>\n",
       "      <td>female</td>\n",
       "      <td>26.0</td>\n",
       "      <td>0</td>\n",
       "      <td>0</td>\n",
       "      <td>STON/O2. 3101282</td>\n",
       "      <td>7.9250</td>\n",
       "      <td>NaN</td>\n",
       "      <td>S</td>\n",
       "    </tr>\n",
       "    <tr>\n",
       "      <th>3</th>\n",
       "      <td>4</td>\n",
       "      <td>1</td>\n",
       "      <td>1</td>\n",
       "      <td>Futrelle, Mrs. Jacques Heath (Lily May Peel)</td>\n",
       "      <td>female</td>\n",
       "      <td>35.0</td>\n",
       "      <td>1</td>\n",
       "      <td>0</td>\n",
       "      <td>113803</td>\n",
       "      <td>53.1000</td>\n",
       "      <td>C123</td>\n",
       "      <td>S</td>\n",
       "    </tr>\n",
       "    <tr>\n",
       "      <th>4</th>\n",
       "      <td>5</td>\n",
       "      <td>0</td>\n",
       "      <td>3</td>\n",
       "      <td>Allen, Mr. William Henry</td>\n",
       "      <td>male</td>\n",
       "      <td>35.0</td>\n",
       "      <td>0</td>\n",
       "      <td>0</td>\n",
       "      <td>373450</td>\n",
       "      <td>8.0500</td>\n",
       "      <td>NaN</td>\n",
       "      <td>S</td>\n",
       "    </tr>\n",
       "    <tr>\n",
       "      <th>5</th>\n",
       "      <td>6</td>\n",
       "      <td>0</td>\n",
       "      <td>3</td>\n",
       "      <td>Moran, Mr. James</td>\n",
       "      <td>male</td>\n",
       "      <td>NaN</td>\n",
       "      <td>0</td>\n",
       "      <td>0</td>\n",
       "      <td>330877</td>\n",
       "      <td>8.4583</td>\n",
       "      <td>NaN</td>\n",
       "      <td>Q</td>\n",
       "    </tr>\n",
       "    <tr>\n",
       "      <th>6</th>\n",
       "      <td>7</td>\n",
       "      <td>0</td>\n",
       "      <td>1</td>\n",
       "      <td>McCarthy, Mr. Timothy J</td>\n",
       "      <td>male</td>\n",
       "      <td>54.0</td>\n",
       "      <td>0</td>\n",
       "      <td>0</td>\n",
       "      <td>17463</td>\n",
       "      <td>51.8625</td>\n",
       "      <td>E46</td>\n",
       "      <td>S</td>\n",
       "    </tr>\n",
       "    <tr>\n",
       "      <th>7</th>\n",
       "      <td>8</td>\n",
       "      <td>0</td>\n",
       "      <td>3</td>\n",
       "      <td>Palsson, Master. Gosta Leonard</td>\n",
       "      <td>male</td>\n",
       "      <td>2.0</td>\n",
       "      <td>3</td>\n",
       "      <td>1</td>\n",
       "      <td>349909</td>\n",
       "      <td>21.0750</td>\n",
       "      <td>NaN</td>\n",
       "      <td>S</td>\n",
       "    </tr>\n",
       "    <tr>\n",
       "      <th>8</th>\n",
       "      <td>9</td>\n",
       "      <td>1</td>\n",
       "      <td>3</td>\n",
       "      <td>Johnson, Mrs. Oscar W (Elisabeth Vilhelmina Berg)</td>\n",
       "      <td>female</td>\n",
       "      <td>27.0</td>\n",
       "      <td>0</td>\n",
       "      <td>2</td>\n",
       "      <td>347742</td>\n",
       "      <td>11.1333</td>\n",
       "      <td>NaN</td>\n",
       "      <td>S</td>\n",
       "    </tr>\n",
       "    <tr>\n",
       "      <th>9</th>\n",
       "      <td>10</td>\n",
       "      <td>1</td>\n",
       "      <td>2</td>\n",
       "      <td>Nasser, Mrs. Nicholas (Adele Achem)</td>\n",
       "      <td>female</td>\n",
       "      <td>14.0</td>\n",
       "      <td>1</td>\n",
       "      <td>0</td>\n",
       "      <td>237736</td>\n",
       "      <td>30.0708</td>\n",
       "      <td>NaN</td>\n",
       "      <td>C</td>\n",
       "    </tr>\n",
       "    <tr>\n",
       "      <th>10</th>\n",
       "      <td>11</td>\n",
       "      <td>1</td>\n",
       "      <td>3</td>\n",
       "      <td>Sandstrom, Miss. Marguerite Rut</td>\n",
       "      <td>female</td>\n",
       "      <td>4.0</td>\n",
       "      <td>1</td>\n",
       "      <td>1</td>\n",
       "      <td>PP 9549</td>\n",
       "      <td>16.7000</td>\n",
       "      <td>G6</td>\n",
       "      <td>S</td>\n",
       "    </tr>\n",
       "    <tr>\n",
       "      <th>11</th>\n",
       "      <td>12</td>\n",
       "      <td>1</td>\n",
       "      <td>1</td>\n",
       "      <td>Bonnell, Miss. Elizabeth</td>\n",
       "      <td>female</td>\n",
       "      <td>58.0</td>\n",
       "      <td>0</td>\n",
       "      <td>0</td>\n",
       "      <td>113783</td>\n",
       "      <td>26.5500</td>\n",
       "      <td>C103</td>\n",
       "      <td>S</td>\n",
       "    </tr>\n",
       "    <tr>\n",
       "      <th>12</th>\n",
       "      <td>13</td>\n",
       "      <td>0</td>\n",
       "      <td>3</td>\n",
       "      <td>Saundercock, Mr. William Henry</td>\n",
       "      <td>male</td>\n",
       "      <td>20.0</td>\n",
       "      <td>0</td>\n",
       "      <td>0</td>\n",
       "      <td>A/5. 2151</td>\n",
       "      <td>8.0500</td>\n",
       "      <td>NaN</td>\n",
       "      <td>S</td>\n",
       "    </tr>\n",
       "    <tr>\n",
       "      <th>13</th>\n",
       "      <td>14</td>\n",
       "      <td>0</td>\n",
       "      <td>3</td>\n",
       "      <td>Andersson, Mr. Anders Johan</td>\n",
       "      <td>male</td>\n",
       "      <td>39.0</td>\n",
       "      <td>1</td>\n",
       "      <td>5</td>\n",
       "      <td>347082</td>\n",
       "      <td>31.2750</td>\n",
       "      <td>NaN</td>\n",
       "      <td>S</td>\n",
       "    </tr>\n",
       "    <tr>\n",
       "      <th>14</th>\n",
       "      <td>15</td>\n",
       "      <td>0</td>\n",
       "      <td>3</td>\n",
       "      <td>Vestrom, Miss. Hulda Amanda Adolfina</td>\n",
       "      <td>female</td>\n",
       "      <td>14.0</td>\n",
       "      <td>0</td>\n",
       "      <td>0</td>\n",
       "      <td>350406</td>\n",
       "      <td>7.8542</td>\n",
       "      <td>NaN</td>\n",
       "      <td>S</td>\n",
       "    </tr>\n",
       "  </tbody>\n",
       "</table>\n",
       "</div>"
      ],
      "text/plain": [
       "    PassengerId  Survived  Pclass  \\\n",
       "0             1         0       3   \n",
       "1             2         1       1   \n",
       "2             3         1       3   \n",
       "3             4         1       1   \n",
       "4             5         0       3   \n",
       "5             6         0       3   \n",
       "6             7         0       1   \n",
       "7             8         0       3   \n",
       "8             9         1       3   \n",
       "9            10         1       2   \n",
       "10           11         1       3   \n",
       "11           12         1       1   \n",
       "12           13         0       3   \n",
       "13           14         0       3   \n",
       "14           15         0       3   \n",
       "\n",
       "                                                 Name     Sex   Age  SibSp  \\\n",
       "0                             Braund, Mr. Owen Harris    male  22.0      1   \n",
       "1   Cumings, Mrs. John Bradley (Florence Briggs Th...  female  38.0      1   \n",
       "2                              Heikkinen, Miss. Laina  female  26.0      0   \n",
       "3        Futrelle, Mrs. Jacques Heath (Lily May Peel)  female  35.0      1   \n",
       "4                            Allen, Mr. William Henry    male  35.0      0   \n",
       "5                                    Moran, Mr. James    male   NaN      0   \n",
       "6                             McCarthy, Mr. Timothy J    male  54.0      0   \n",
       "7                      Palsson, Master. Gosta Leonard    male   2.0      3   \n",
       "8   Johnson, Mrs. Oscar W (Elisabeth Vilhelmina Berg)  female  27.0      0   \n",
       "9                 Nasser, Mrs. Nicholas (Adele Achem)  female  14.0      1   \n",
       "10                    Sandstrom, Miss. Marguerite Rut  female   4.0      1   \n",
       "11                           Bonnell, Miss. Elizabeth  female  58.0      0   \n",
       "12                     Saundercock, Mr. William Henry    male  20.0      0   \n",
       "13                        Andersson, Mr. Anders Johan    male  39.0      1   \n",
       "14               Vestrom, Miss. Hulda Amanda Adolfina  female  14.0      0   \n",
       "\n",
       "    Parch            Ticket     Fare Cabin Embarked  \n",
       "0       0         A/5 21171   7.2500   NaN        S  \n",
       "1       0          PC 17599  71.2833   C85        C  \n",
       "2       0  STON/O2. 3101282   7.9250   NaN        S  \n",
       "3       0            113803  53.1000  C123        S  \n",
       "4       0            373450   8.0500   NaN        S  \n",
       "5       0            330877   8.4583   NaN        Q  \n",
       "6       0             17463  51.8625   E46        S  \n",
       "7       1            349909  21.0750   NaN        S  \n",
       "8       2            347742  11.1333   NaN        S  \n",
       "9       0            237736  30.0708   NaN        C  \n",
       "10      1           PP 9549  16.7000    G6        S  \n",
       "11      0            113783  26.5500  C103        S  \n",
       "12      0         A/5. 2151   8.0500   NaN        S  \n",
       "13      5            347082  31.2750   NaN        S  \n",
       "14      0            350406   7.8542   NaN        S  "
      ]
     },
     "execution_count": 64,
     "metadata": {},
     "output_type": "execute_result"
    }
   ],
   "source": [
    "titanic_data = pd.read_csv('train.csv')\n",
    "\n",
    "titanic_data.head(15)"
   ]
  },
  {
   "cell_type": "code",
   "execution_count": 65,
   "metadata": {
    "ExecuteTime": {
     "end_time": "2020-02-13T04:42:19.878139Z",
     "start_time": "2020-02-13T04:42:19.871151Z"
    }
   },
   "outputs": [
    {
     "data": {
      "text/plain": [
       "PassengerId      0\n",
       "Survived         0\n",
       "Pclass           0\n",
       "Name             0\n",
       "Sex              0\n",
       "Age            177\n",
       "SibSp            0\n",
       "Parch            0\n",
       "Ticket           0\n",
       "Fare             0\n",
       "Cabin          687\n",
       "Embarked         2\n",
       "dtype: int64"
      ]
     },
     "execution_count": 65,
     "metadata": {},
     "output_type": "execute_result"
    }
   ],
   "source": [
    "titanic_data.isna().sum()"
   ]
  },
  {
   "cell_type": "code",
   "execution_count": 66,
   "metadata": {
    "ExecuteTime": {
     "end_time": "2020-02-13T04:42:19.894089Z",
     "start_time": "2020-02-13T04:42:19.880127Z"
    }
   },
   "outputs": [
    {
     "data": {
      "text/html": [
       "<div>\n",
       "<style scoped>\n",
       "    .dataframe tbody tr th:only-of-type {\n",
       "        vertical-align: middle;\n",
       "    }\n",
       "\n",
       "    .dataframe tbody tr th {\n",
       "        vertical-align: top;\n",
       "    }\n",
       "\n",
       "    .dataframe thead th {\n",
       "        text-align: right;\n",
       "    }\n",
       "</style>\n",
       "<table border=\"1\" class=\"dataframe\">\n",
       "  <thead>\n",
       "    <tr style=\"text-align: right;\">\n",
       "      <th></th>\n",
       "      <th>Pclass</th>\n",
       "      <th>Sex</th>\n",
       "      <th>Age</th>\n",
       "      <th>SibSp</th>\n",
       "      <th>Parch</th>\n",
       "      <th>Fare</th>\n",
       "      <th>Embarked</th>\n",
       "    </tr>\n",
       "  </thead>\n",
       "  <tbody>\n",
       "    <tr>\n",
       "      <th>0</th>\n",
       "      <td>3</td>\n",
       "      <td>male</td>\n",
       "      <td>22.0</td>\n",
       "      <td>1</td>\n",
       "      <td>0</td>\n",
       "      <td>7.2500</td>\n",
       "      <td>S</td>\n",
       "    </tr>\n",
       "    <tr>\n",
       "      <th>1</th>\n",
       "      <td>1</td>\n",
       "      <td>female</td>\n",
       "      <td>38.0</td>\n",
       "      <td>1</td>\n",
       "      <td>0</td>\n",
       "      <td>71.2833</td>\n",
       "      <td>C</td>\n",
       "    </tr>\n",
       "    <tr>\n",
       "      <th>2</th>\n",
       "      <td>3</td>\n",
       "      <td>female</td>\n",
       "      <td>26.0</td>\n",
       "      <td>0</td>\n",
       "      <td>0</td>\n",
       "      <td>7.9250</td>\n",
       "      <td>S</td>\n",
       "    </tr>\n",
       "    <tr>\n",
       "      <th>3</th>\n",
       "      <td>1</td>\n",
       "      <td>female</td>\n",
       "      <td>35.0</td>\n",
       "      <td>1</td>\n",
       "      <td>0</td>\n",
       "      <td>53.1000</td>\n",
       "      <td>S</td>\n",
       "    </tr>\n",
       "    <tr>\n",
       "      <th>4</th>\n",
       "      <td>3</td>\n",
       "      <td>male</td>\n",
       "      <td>35.0</td>\n",
       "      <td>0</td>\n",
       "      <td>0</td>\n",
       "      <td>8.0500</td>\n",
       "      <td>S</td>\n",
       "    </tr>\n",
       "  </tbody>\n",
       "</table>\n",
       "</div>"
      ],
      "text/plain": [
       "   Pclass     Sex   Age  SibSp  Parch     Fare Embarked\n",
       "0       3    male  22.0      1      0   7.2500        S\n",
       "1       1  female  38.0      1      0  71.2833        C\n",
       "2       3  female  26.0      0      0   7.9250        S\n",
       "3       1  female  35.0      1      0  53.1000        S\n",
       "4       3    male  35.0      0      0   8.0500        S"
      ]
     },
     "execution_count": 66,
     "metadata": {},
     "output_type": "execute_result"
    }
   ],
   "source": [
    "X = titanic_data.drop(['PassengerId', 'Survived', 'Name', 'Ticket', 'Cabin'], axis=1)\n",
    "X.head()"
   ]
  },
  {
   "cell_type": "code",
   "execution_count": 67,
   "metadata": {
    "ExecuteTime": {
     "end_time": "2020-02-13T04:42:19.905092Z",
     "start_time": "2020-02-13T04:42:19.896083Z"
    }
   },
   "outputs": [],
   "source": [
    "X = X.fillna({'Age': X.Age.median()})"
   ]
  },
  {
   "cell_type": "code",
   "execution_count": 68,
   "metadata": {
    "ExecuteTime": {
     "end_time": "2020-02-13T04:42:19.916048Z",
     "start_time": "2020-02-13T04:42:19.907054Z"
    }
   },
   "outputs": [
    {
     "data": {
      "text/plain": [
       "0    0\n",
       "1    1\n",
       "2    1\n",
       "3    1\n",
       "4    0\n",
       "Name: Survived, dtype: int64"
      ]
     },
     "execution_count": 68,
     "metadata": {},
     "output_type": "execute_result"
    }
   ],
   "source": [
    "y = titanic_data['Survived']\n",
    "y.head()"
   ]
  },
  {
   "cell_type": "code",
   "execution_count": 69,
   "metadata": {
    "ExecuteTime": {
     "end_time": "2020-02-13T04:42:19.939966Z",
     "start_time": "2020-02-13T04:42:19.919022Z"
    }
   },
   "outputs": [
    {
     "data": {
      "text/html": [
       "<div>\n",
       "<style scoped>\n",
       "    .dataframe tbody tr th:only-of-type {\n",
       "        vertical-align: middle;\n",
       "    }\n",
       "\n",
       "    .dataframe tbody tr th {\n",
       "        vertical-align: top;\n",
       "    }\n",
       "\n",
       "    .dataframe thead th {\n",
       "        text-align: right;\n",
       "    }\n",
       "</style>\n",
       "<table border=\"1\" class=\"dataframe\">\n",
       "  <thead>\n",
       "    <tr style=\"text-align: right;\">\n",
       "      <th></th>\n",
       "      <th>Pclass</th>\n",
       "      <th>Age</th>\n",
       "      <th>SibSp</th>\n",
       "      <th>Parch</th>\n",
       "      <th>Fare</th>\n",
       "      <th>Sex_female</th>\n",
       "      <th>Sex_male</th>\n",
       "      <th>Embarked_C</th>\n",
       "      <th>Embarked_Q</th>\n",
       "      <th>Embarked_S</th>\n",
       "    </tr>\n",
       "  </thead>\n",
       "  <tbody>\n",
       "    <tr>\n",
       "      <th>0</th>\n",
       "      <td>3</td>\n",
       "      <td>22.0</td>\n",
       "      <td>1</td>\n",
       "      <td>0</td>\n",
       "      <td>7.2500</td>\n",
       "      <td>0</td>\n",
       "      <td>1</td>\n",
       "      <td>0</td>\n",
       "      <td>0</td>\n",
       "      <td>1</td>\n",
       "    </tr>\n",
       "    <tr>\n",
       "      <th>1</th>\n",
       "      <td>1</td>\n",
       "      <td>38.0</td>\n",
       "      <td>1</td>\n",
       "      <td>0</td>\n",
       "      <td>71.2833</td>\n",
       "      <td>1</td>\n",
       "      <td>0</td>\n",
       "      <td>1</td>\n",
       "      <td>0</td>\n",
       "      <td>0</td>\n",
       "    </tr>\n",
       "    <tr>\n",
       "      <th>2</th>\n",
       "      <td>3</td>\n",
       "      <td>26.0</td>\n",
       "      <td>0</td>\n",
       "      <td>0</td>\n",
       "      <td>7.9250</td>\n",
       "      <td>1</td>\n",
       "      <td>0</td>\n",
       "      <td>0</td>\n",
       "      <td>0</td>\n",
       "      <td>1</td>\n",
       "    </tr>\n",
       "    <tr>\n",
       "      <th>3</th>\n",
       "      <td>1</td>\n",
       "      <td>35.0</td>\n",
       "      <td>1</td>\n",
       "      <td>0</td>\n",
       "      <td>53.1000</td>\n",
       "      <td>1</td>\n",
       "      <td>0</td>\n",
       "      <td>0</td>\n",
       "      <td>0</td>\n",
       "      <td>1</td>\n",
       "    </tr>\n",
       "    <tr>\n",
       "      <th>4</th>\n",
       "      <td>3</td>\n",
       "      <td>35.0</td>\n",
       "      <td>0</td>\n",
       "      <td>0</td>\n",
       "      <td>8.0500</td>\n",
       "      <td>0</td>\n",
       "      <td>1</td>\n",
       "      <td>0</td>\n",
       "      <td>0</td>\n",
       "      <td>1</td>\n",
       "    </tr>\n",
       "  </tbody>\n",
       "</table>\n",
       "</div>"
      ],
      "text/plain": [
       "   Pclass   Age  SibSp  Parch     Fare  Sex_female  Sex_male  Embarked_C  \\\n",
       "0       3  22.0      1      0   7.2500           0         1           0   \n",
       "1       1  38.0      1      0  71.2833           1         0           1   \n",
       "2       3  26.0      0      0   7.9250           1         0           0   \n",
       "3       1  35.0      1      0  53.1000           1         0           0   \n",
       "4       3  35.0      0      0   8.0500           0         1           0   \n",
       "\n",
       "   Embarked_Q  Embarked_S  \n",
       "0           0           1  \n",
       "1           0           0  \n",
       "2           0           1  \n",
       "3           0           1  \n",
       "4           0           1  "
      ]
     },
     "execution_count": 69,
     "metadata": {},
     "output_type": "execute_result"
    }
   ],
   "source": [
    "X = pd.get_dummies(X)\n",
    "X.head()"
   ]
  },
  {
   "cell_type": "code",
   "execution_count": 70,
   "metadata": {
    "ExecuteTime": {
     "end_time": "2020-02-13T04:42:19.949939Z",
     "start_time": "2020-02-13T04:42:19.941961Z"
    }
   },
   "outputs": [
    {
     "data": {
      "text/plain": [
       "Pclass        0\n",
       "Age           0\n",
       "SibSp         0\n",
       "Parch         0\n",
       "Fare          0\n",
       "Sex_female    0\n",
       "Sex_male      0\n",
       "Embarked_C    0\n",
       "Embarked_Q    0\n",
       "Embarked_S    0\n",
       "dtype: int64"
      ]
     },
     "execution_count": 70,
     "metadata": {},
     "output_type": "execute_result"
    }
   ],
   "source": [
    "X.isna().sum()"
   ]
  },
  {
   "cell_type": "code",
   "execution_count": 71,
   "metadata": {
    "ExecuteTime": {
     "end_time": "2020-02-13T04:42:19.956921Z",
     "start_time": "2020-02-13T04:42:19.950936Z"
    }
   },
   "outputs": [
    {
     "data": {
      "text/plain": [
       "(891, 10)"
      ]
     },
     "execution_count": 71,
     "metadata": {},
     "output_type": "execute_result"
    }
   ],
   "source": [
    "X.shape"
   ]
  },
  {
   "cell_type": "code",
   "execution_count": 72,
   "metadata": {
    "ExecuteTime": {
     "end_time": "2020-02-13T04:42:19.976868Z",
     "start_time": "2020-02-13T04:42:19.958915Z"
    }
   },
   "outputs": [
    {
     "data": {
      "text/plain": [
       "DecisionTreeClassifier(class_weight=None, criterion='entropy', max_depth=None,\n",
       "                       max_features=None, max_leaf_nodes=None,\n",
       "                       min_impurity_decrease=0.0, min_impurity_split=None,\n",
       "                       min_samples_leaf=1, min_samples_split=2,\n",
       "                       min_weight_fraction_leaf=0.0, presort=False,\n",
       "                       random_state=None, splitter='best')"
      ]
     },
     "execution_count": 72,
     "metadata": {},
     "output_type": "execute_result"
    }
   ],
   "source": [
    "from sklearn import tree\n",
    "\n",
    "clf = tree.DecisionTreeClassifier(criterion='entropy')\n",
    "clf.fit(X, y)"
   ]
  },
  {
   "cell_type": "code",
   "execution_count": 73,
   "metadata": {
    "ExecuteTime": {
     "end_time": "2020-02-13T04:42:19.983849Z",
     "start_time": "2020-02-13T04:42:19.978862Z"
    }
   },
   "outputs": [],
   "source": [
    "#graph = Source(tree.export_graphviz(clf, out_file=None, feature_names=list(X), class_names=['Died', 'Survived'], filled=True))\n",
    "#display(SVG(graph.pipe(format='svg')))"
   ]
  },
  {
   "cell_type": "code",
   "execution_count": 74,
   "metadata": {
    "ExecuteTime": {
     "end_time": "2020-02-13T04:42:19.994820Z",
     "start_time": "2020-02-13T04:42:19.985844Z"
    }
   },
   "outputs": [],
   "source": [
    "from sklearn.model_selection import train_test_split\n",
    "\n",
    "X_train, X_test, y_train, y_test = train_test_split(X, y, test_size=0.33)\n"
   ]
  },
  {
   "cell_type": "code",
   "execution_count": 75,
   "metadata": {
    "ExecuteTime": {
     "end_time": "2020-02-13T04:42:20.003795Z",
     "start_time": "2020-02-13T04:42:19.996814Z"
    }
   },
   "outputs": [
    {
     "data": {
      "text/plain": [
       "(596, 10)"
      ]
     },
     "execution_count": 75,
     "metadata": {},
     "output_type": "execute_result"
    }
   ],
   "source": [
    "X_train.shape"
   ]
  },
  {
   "cell_type": "code",
   "execution_count": 76,
   "metadata": {
    "ExecuteTime": {
     "end_time": "2020-02-13T04:42:20.014766Z",
     "start_time": "2020-02-13T04:42:20.004792Z"
    }
   },
   "outputs": [
    {
     "data": {
      "text/plain": [
       "0.9797979797979798"
      ]
     },
     "execution_count": 76,
     "metadata": {},
     "output_type": "execute_result"
    }
   ],
   "source": [
    "clf.score(X, y)\n"
   ]
  },
  {
   "cell_type": "code",
   "execution_count": 77,
   "metadata": {
    "ExecuteTime": {
     "end_time": "2020-02-13T04:42:20.025736Z",
     "start_time": "2020-02-13T04:42:20.016762Z"
    }
   },
   "outputs": [
    {
     "data": {
      "text/plain": [
       "0.8169491525423729"
      ]
     },
     "execution_count": 77,
     "metadata": {},
     "output_type": "execute_result"
    }
   ],
   "source": [
    "clf.fit(X_train,y_train)\n",
    "clf.score(X_test,y_test)"
   ]
  },
  {
   "cell_type": "code",
   "execution_count": 78,
   "metadata": {
    "ExecuteTime": {
     "end_time": "2020-02-13T04:42:20.036707Z",
     "start_time": "2020-02-13T04:42:20.026734Z"
    }
   },
   "outputs": [
    {
     "data": {
      "text/plain": [
       "0.8067796610169492"
      ]
     },
     "execution_count": 78,
     "metadata": {},
     "output_type": "execute_result"
    }
   ],
   "source": [
    "clf2 = tree.DecisionTreeClassifier(criterion='entropy', max_depth=5)\n",
    "clf2.fit(X_train, y_train)\n",
    "clf2.score(X_test, y_test)"
   ]
  },
  {
   "cell_type": "code",
   "execution_count": 79,
   "metadata": {
    "ExecuteTime": {
     "end_time": "2020-02-13T04:42:20.042692Z",
     "start_time": "2020-02-13T04:42:20.038702Z"
    }
   },
   "outputs": [],
   "source": [
    "max_depth = 50\n",
    "scores_data = pd.DataFrame()"
   ]
  },
  {
   "cell_type": "code",
   "execution_count": 80,
   "metadata": {
    "ExecuteTime": {
     "end_time": "2020-02-13T04:42:20.051667Z",
     "start_time": "2020-02-13T04:42:20.043689Z"
    }
   },
   "outputs": [],
   "source": [
    "def train(max_depth):\n",
    "    scores_data = pd.DataFrame()\n",
    "    for depth in range(1, max_depth):\n",
    "        clf = tree.DecisionTreeClassifier(criterion='entropy', max_depth=depth, random_state=0)\n",
    "        clf.fit(X_train, y_train)\n",
    "        train_score = clf.score(X_train, y_train)\n",
    "        test_score = clf.score(X_test, y_test)\n",
    "        mean_cross_val_score = cross_val_score(clf, X_train, y_train, cv=5).mean()\n",
    "        temp_scores_data = pd.DataFrame({'max_depth': [depth], 'train_score': [train_score], 'test_score': [test_score], 'cross_val_score': [mean_cross_val_score]})                    \n",
    "        scores_data = scores_data.append(temp_scores_data)\n",
    "    return scores_data"
   ]
  },
  {
   "cell_type": "code",
   "execution_count": 81,
   "metadata": {
    "ExecuteTime": {
     "end_time": "2020-02-13T04:42:20.060643Z",
     "start_time": "2020-02-13T04:42:20.053662Z"
    }
   },
   "outputs": [
    {
     "data": {
      "text/html": [
       "<div>\n",
       "<style scoped>\n",
       "    .dataframe tbody tr th:only-of-type {\n",
       "        vertical-align: middle;\n",
       "    }\n",
       "\n",
       "    .dataframe tbody tr th {\n",
       "        vertical-align: top;\n",
       "    }\n",
       "\n",
       "    .dataframe thead th {\n",
       "        text-align: right;\n",
       "    }\n",
       "</style>\n",
       "<table border=\"1\" class=\"dataframe\">\n",
       "  <thead>\n",
       "    <tr style=\"text-align: right;\">\n",
       "      <th></th>\n",
       "    </tr>\n",
       "  </thead>\n",
       "  <tbody>\n",
       "  </tbody>\n",
       "</table>\n",
       "</div>"
      ],
      "text/plain": [
       "Empty DataFrame\n",
       "Columns: []\n",
       "Index: []"
      ]
     },
     "execution_count": 81,
     "metadata": {},
     "output_type": "execute_result"
    }
   ],
   "source": [
    "scores_data.head()"
   ]
  },
  {
   "cell_type": "code",
   "execution_count": 86,
   "metadata": {
    "ExecuteTime": {
     "end_time": "2020-02-13T04:43:44.922182Z",
     "start_time": "2020-02-13T04:43:43.478044Z"
    }
   },
   "outputs": [],
   "source": [
    "scores_data=train(max_depth)"
   ]
  },
  {
   "cell_type": "code",
   "execution_count": 172,
   "metadata": {
    "ExecuteTime": {
     "end_time": "2020-02-13T07:16:15.794409Z",
     "start_time": "2020-02-13T07:16:15.058708Z"
    }
   },
   "outputs": [
    {
     "data": {
      "text/plain": [
       "<matplotlib.axes._subplots.AxesSubplot at 0x20ef3d83c50>"
      ]
     },
     "execution_count": 172,
     "metadata": {},
     "output_type": "execute_result"
    },
    {
     "data": {
      "image/png": "[encoded data removed]",
      "text/plain": [
       "<Figure size 432x288 with 1 Axes>"
      ]
     },
     "metadata": {},
     "output_type": "display_data"
    }
   ],
   "source": [
    "sns.lineplot(scores_data.max_depth, scores_data['test_score'])\n",
    "sns.lineplot(scores_data.max_depth, scores_data['train_score'])\n",
    "sns.lineplot(scores_data.max_depth, scores_data['cross_val_score'])"
   ]
  },
  {
   "cell_type": "code",
   "execution_count": 88,
   "metadata": {
    "ExecuteTime": {
     "end_time": "2020-02-13T04:43:49.472046Z",
     "start_time": "2020-02-13T04:43:49.458110Z"
    }
   },
   "outputs": [
    {
     "data": {
      "text/html": [
       "<div>\n",
       "<style scoped>\n",
       "    .dataframe tbody tr th:only-of-type {\n",
       "        vertical-align: middle;\n",
       "    }\n",
       "\n",
       "    .dataframe tbody tr th {\n",
       "        vertical-align: top;\n",
       "    }\n",
       "\n",
       "    .dataframe thead th {\n",
       "        text-align: right;\n",
       "    }\n",
       "</style>\n",
       "<table border=\"1\" class=\"dataframe\">\n",
       "  <thead>\n",
       "    <tr style=\"text-align: right;\">\n",
       "      <th></th>\n",
       "      <th>max_depth</th>\n",
       "      <th>set_type</th>\n",
       "      <th>score</th>\n",
       "    </tr>\n",
       "  </thead>\n",
       "  <tbody>\n",
       "    <tr>\n",
       "      <th>0</th>\n",
       "      <td>1</td>\n",
       "      <td>train_score</td>\n",
       "      <td>0.791946</td>\n",
       "    </tr>\n",
       "    <tr>\n",
       "      <th>1</th>\n",
       "      <td>2</td>\n",
       "      <td>train_score</td>\n",
       "      <td>0.791946</td>\n",
       "    </tr>\n",
       "    <tr>\n",
       "      <th>2</th>\n",
       "      <td>3</td>\n",
       "      <td>train_score</td>\n",
       "      <td>0.805369</td>\n",
       "    </tr>\n",
       "    <tr>\n",
       "      <th>3</th>\n",
       "      <td>4</td>\n",
       "      <td>train_score</td>\n",
       "      <td>0.828859</td>\n",
       "    </tr>\n",
       "    <tr>\n",
       "      <th>4</th>\n",
       "      <td>5</td>\n",
       "      <td>train_score</td>\n",
       "      <td>0.838926</td>\n",
       "    </tr>\n",
       "  </tbody>\n",
       "</table>\n",
       "</div>"
      ],
      "text/plain": [
       "   max_depth     set_type     score\n",
       "0          1  train_score  0.791946\n",
       "1          2  train_score  0.791946\n",
       "2          3  train_score  0.805369\n",
       "3          4  train_score  0.828859\n",
       "4          5  train_score  0.838926"
      ]
     },
     "execution_count": 88,
     "metadata": {},
     "output_type": "execute_result"
    }
   ],
   "source": [
    "scores_changed = pd.melt(scores_data, id_vars=['max_depth'], value_vars=['train_score', 'test_score', 'cross_val_score'], var_name='set_type', value_name='score')\n",
    "scores_changed.head()"
   ]
  },
  {
   "cell_type": "code",
   "execution_count": 89,
   "metadata": {
    "ExecuteTime": {
     "end_time": "2020-02-13T04:43:52.229124Z",
     "start_time": "2020-02-13T04:43:52.153325Z"
    }
   },
   "outputs": [
    {
     "data": {
      "text/plain": [
       "<matplotlib.axes._subplots.AxesSubplot at 0x20ec166fe10>"
      ]
     },
     "execution_count": 89,
     "metadata": {},
     "output_type": "execute_result"
    }
   ],
   "source": [
    "sns.lineplot(x='max_depth', y='score', data=scores_changed, hue='set_type', )"
   ]
  },
  {
   "cell_type": "code",
   "execution_count": 90,
   "metadata": {
    "ExecuteTime": {
     "end_time": "2020-02-13T04:43:52.572378Z",
     "start_time": "2020-02-13T04:43:52.561407Z"
    }
   },
   "outputs": [
    {
     "data": {
      "text/html": [
       "<div>\n",
       "<style scoped>\n",
       "    .dataframe tbody tr th:only-of-type {\n",
       "        vertical-align: middle;\n",
       "    }\n",
       "\n",
       "    .dataframe tbody tr th {\n",
       "        vertical-align: top;\n",
       "    }\n",
       "\n",
       "    .dataframe thead th {\n",
       "        text-align: right;\n",
       "    }\n",
       "</style>\n",
       "<table border=\"1\" class=\"dataframe\">\n",
       "  <thead>\n",
       "    <tr style=\"text-align: right;\">\n",
       "      <th></th>\n",
       "      <th>max_depth</th>\n",
       "      <th>set_type</th>\n",
       "      <th>score</th>\n",
       "    </tr>\n",
       "  </thead>\n",
       "  <tbody>\n",
       "    <tr>\n",
       "      <th>101</th>\n",
       "      <td>4</td>\n",
       "      <td>cross_val_score</td>\n",
       "      <td>0.805378</td>\n",
       "    </tr>\n",
       "  </tbody>\n",
       "</table>\n",
       "</div>"
      ],
      "text/plain": [
       "     max_depth         set_type     score\n",
       "101          4  cross_val_score  0.805378"
      ]
     },
     "execution_count": 90,
     "metadata": {},
     "output_type": "execute_result"
    }
   ],
   "source": [
    "scores_changed[scores_changed['score']==scores_changed[scores_changed['set_type']=='cross_val_score']['score'].max()]"
   ]
  },
  {
   "cell_type": "code",
   "execution_count": 91,
   "metadata": {
    "ExecuteTime": {
     "end_time": "2020-02-13T04:43:53.852471Z",
     "start_time": "2020-02-13T04:43:53.823548Z"
    }
   },
   "outputs": [
    {
     "data": {
      "text/plain": [
       "0.8020448179271709"
      ]
     },
     "execution_count": 91,
     "metadata": {},
     "output_type": "execute_result"
    }
   ],
   "source": [
    "from sklearn.model_selection import cross_val_score\n",
    "\n",
    "clf = tree.DecisionTreeClassifier(criterion='entropy', max_depth=4)\n",
    "\n",
    "cross_val_score(clf, X_train, y_train, cv=5).mean()"
   ]
  },
  {
   "cell_type": "code",
   "execution_count": 92,
   "metadata": {
    "ExecuteTime": {
     "end_time": "2020-02-13T04:43:55.510970Z",
     "start_time": "2020-02-13T04:43:55.483036Z"
    }
   },
   "outputs": [
    {
     "data": {
      "text/plain": [
       "0.8030586401714398"
      ]
     },
     "execution_count": 92,
     "metadata": {},
     "output_type": "execute_result"
    }
   ],
   "source": [
    "best_clf = tree.DecisionTreeClassifier(criterion='entropy', max_depth=4)\n",
    "best_clf.fit(X_train, y_train)\n",
    "cross_val_score(clf, X_test, y_test, cv=5).mean()"
   ]
  },
  {
   "cell_type": "code",
   "execution_count": 93,
   "metadata": {
    "ExecuteTime": {
     "end_time": "2020-02-13T04:43:57.089687Z",
     "start_time": "2020-02-13T04:43:56.237961Z"
    }
   },
   "outputs": [
    {
     "data": {
      "text/plain": [
       "GridSearchCV(cv=5, error_score='raise-deprecating',\n",
       "             estimator=DecisionTreeClassifier(class_weight=None,\n",
       "                                              criterion='gini', max_depth=None,\n",
       "                                              max_features=None,\n",
       "                                              max_leaf_nodes=None,\n",
       "                                              min_impurity_decrease=0.0,\n",
       "                                              min_impurity_split=None,\n",
       "                                              min_samples_leaf=1,\n",
       "                                              min_samples_split=2,\n",
       "                                              min_weight_fraction_leaf=0.0,\n",
       "                                              presort=False, random_state=None,\n",
       "                                              splitter='best'),\n",
       "             iid='warn', n_jobs=None,\n",
       "             param_grid={'criterion': ['gini', 'entropy'],\n",
       "                         'max_depth': range(1, 20)},\n",
       "             pre_dispatch='2*n_jobs', refit=True, return_train_score=False,\n",
       "             scoring=None, verbose=0)"
      ]
     },
     "execution_count": 93,
     "metadata": {},
     "output_type": "execute_result"
    }
   ],
   "source": [
    "from sklearn.model_selection import GridSearchCV\n",
    "\n",
    "clf = tree.DecisionTreeClassifier()\n",
    "\n",
    "params = {'criterion': ['gini', 'entropy'], 'max_depth': range(1, 20)}\n",
    "grid_clf = GridSearchCV(clf, param_grid=params, cv=5)\n",
    "\n",
    "grid_clf.fit(X_train, y_train)"
   ]
  },
  {
   "cell_type": "code",
   "execution_count": 94,
   "metadata": {
    "ExecuteTime": {
     "end_time": "2020-02-13T04:43:59.709334Z",
     "start_time": "2020-02-13T04:43:59.704322Z"
    }
   },
   "outputs": [
    {
     "data": {
      "text/plain": [
       "{'criterion': 'entropy', 'max_depth': 8}"
      ]
     },
     "execution_count": 94,
     "metadata": {},
     "output_type": "execute_result"
    }
   ],
   "source": [
    "grid_clf.best_params_"
   ]
  },
  {
   "cell_type": "code",
   "execution_count": 95,
   "metadata": {
    "ExecuteTime": {
     "end_time": "2020-02-13T04:44:00.047916Z",
     "start_time": "2020-02-13T04:44:00.043927Z"
    }
   },
   "outputs": [],
   "source": [
    "best_clf = grid_clf.best_estimator_"
   ]
  },
  {
   "cell_type": "code",
   "execution_count": 96,
   "metadata": {
    "ExecuteTime": {
     "end_time": "2020-02-13T04:44:00.318364Z",
     "start_time": "2020-02-13T04:44:00.313376Z"
    }
   },
   "outputs": [
    {
     "data": {
      "text/plain": [
       "DecisionTreeClassifier(class_weight=None, criterion='entropy', max_depth=8,\n",
       "                       max_features=None, max_leaf_nodes=None,\n",
       "                       min_impurity_decrease=0.0, min_impurity_split=None,\n",
       "                       min_samples_leaf=1, min_samples_split=2,\n",
       "                       min_weight_fraction_leaf=0.0, presort=False,\n",
       "                       random_state=None, splitter='best')"
      ]
     },
     "execution_count": 96,
     "metadata": {},
     "output_type": "execute_result"
    }
   ],
   "source": [
    "best_clf"
   ]
  },
  {
   "cell_type": "code",
   "execution_count": 97,
   "metadata": {
    "ExecuteTime": {
     "end_time": "2020-02-13T04:44:00.674128Z",
     "start_time": "2020-02-13T04:44:00.667146Z"
    }
   },
   "outputs": [
    {
     "data": {
      "text/plain": [
       "0.8440677966101695"
      ]
     },
     "execution_count": 97,
     "metadata": {},
     "output_type": "execute_result"
    }
   ],
   "source": [
    "best_clf.score(X_test, y_test)"
   ]
  },
  {
   "cell_type": "code",
   "execution_count": 98,
   "metadata": {
    "ExecuteTime": {
     "end_time": "2020-02-13T04:44:02.123764Z",
     "start_time": "2020-02-13T04:44:02.119755Z"
    }
   },
   "outputs": [],
   "source": [
    "pred = best_clf.predict(X_test)"
   ]
  },
  {
   "cell_type": "code",
   "execution_count": 99,
   "metadata": {
    "ExecuteTime": {
     "end_time": "2020-02-13T04:44:02.420606Z",
     "start_time": "2020-02-13T04:44:02.413625Z"
    }
   },
   "outputs": [
    {
     "data": {
      "text/plain": [
       "0.7684210526315789"
      ]
     },
     "execution_count": 99,
     "metadata": {},
     "output_type": "execute_result"
    }
   ],
   "source": [
    "from sklearn.metrics import precision_score\n",
    "\n",
    "precision_score(y_test, pred)"
   ]
  },
  {
   "cell_type": "code",
   "execution_count": 100,
   "metadata": {
    "ExecuteTime": {
     "end_time": "2020-02-13T04:44:03.053270Z",
     "start_time": "2020-02-13T04:44:03.046288Z"
    }
   },
   "outputs": [
    {
     "data": {
      "text/plain": [
       "0.7525773195876289"
      ]
     },
     "execution_count": 100,
     "metadata": {},
     "output_type": "execute_result"
    }
   ],
   "source": [
    "from sklearn.metrics import recall_score\n",
    "\n",
    "recall_score(y_test, pred)"
   ]
  },
  {
   "cell_type": "code",
   "execution_count": 101,
   "metadata": {
    "ExecuteTime": {
     "end_time": "2020-02-13T04:44:04.007318Z",
     "start_time": "2020-02-13T04:44:04.003327Z"
    }
   },
   "outputs": [],
   "source": [
    "pred_proba = best_clf.predict_proba(X_test)\n"
   ]
  },
  {
   "cell_type": "code",
   "execution_count": 102,
   "metadata": {
    "ExecuteTime": {
     "end_time": "2020-02-13T04:44:04.316835Z",
     "start_time": "2020-02-13T04:44:04.298880Z"
    }
   },
   "outputs": [
    {
     "data": {
      "text/plain": [
       "<matplotlib.axes._subplots.AxesSubplot at 0x20ec166fe10>"
      ]
     },
     "execution_count": 102,
     "metadata": {},
     "output_type": "execute_result"
    }
   ],
   "source": [
    "plt.rcParams['figure.figsize'] = 10,7\n",
    "pd.Series(pred_proba[:, 1]).hist()"
   ]
  },
  {
   "cell_type": "code",
   "execution_count": 103,
   "metadata": {
    "ExecuteTime": {
     "end_time": "2020-02-13T04:44:04.620205Z",
     "start_time": "2020-02-13T04:44:04.615218Z"
    }
   },
   "outputs": [],
   "source": [
    "pred_opt = np.where(pred_proba[:, 1]>0.75, 1, 0)"
   ]
  },
  {
   "cell_type": "code",
   "execution_count": 104,
   "metadata": {
    "ExecuteTime": {
     "end_time": "2020-02-13T04:44:05.951590Z",
     "start_time": "2020-02-13T04:44:05.943586Z"
    }
   },
   "outputs": [
    {
     "data": {
      "text/plain": [
       "(0.8589743589743589, 0.6907216494845361)"
      ]
     },
     "execution_count": 104,
     "metadata": {},
     "output_type": "execute_result"
    }
   ],
   "source": [
    "precision_score(y_test, pred_opt), recall_score(y_test, pred_opt)"
   ]
  },
  {
   "cell_type": "code",
   "execution_count": 105,
   "metadata": {
    "ExecuteTime": {
     "end_time": "2020-02-13T04:44:06.773264Z",
     "start_time": "2020-02-13T04:44:06.739380Z"
    }
   },
   "outputs": [
    {
     "data": {
      "application/javascript": [
       "/* Put everything inside the global mpl namespace */\n",
       "window.mpl = {};\n",
       "\n",
       "\n",
       "mpl.get_websocket_type = function() {\n",
       "    if (typeof(WebSocket) !== 'undefined') {\n",
       "        return WebSocket;\n",
       "    } else if (typeof(MozWebSocket) !== 'undefined') {\n",
       "        return MozWebSocket;\n",
       "    } else {\n",
       "        alert('Your browser does not have WebSocket support. ' +\n",
       "              'Please try Chrome, Safari or Firefox ≥ 6. ' +\n",
       "              'Firefox 4 and 5 are also supported but you ' +\n",
       "              'have to enable WebSockets in about:config.');\n",
       "    };\n",
       "}\n",
       "\n",
       "mpl.figure = function(figure_id, websocket, ondownload, parent_element) {\n",
       "    this.id = figure_id;\n",
       "\n",
       "    this.ws = websocket;\n",
       "\n",
       "    this.supports_binary = (this.ws.binaryType != undefined);\n",
       "\n",
       "    if (!this.supports_binary) {\n",
       "        var warnings = document.getElementById(\"mpl-warnings\");\n",
       "        if (warnings) {\n",
       "            warnings.style.display = 'block';\n",
       "            warnings.textContent = (\n",
       "                \"This browser does not support binary websocket messages. \" +\n",
       "                    \"Performance may be slow.\");\n",
       "        }\n",
       "    }\n",
       "\n",
       "    this.imageObj = new Image();\n",
       "\n",
       "    this.context = undefined;\n",
       "    this.message = undefined;\n",
       "    this.canvas = undefined;\n",
       "    this.rubberband_canvas = undefined;\n",
       "    this.rubberband_context = undefined;\n",
       "    this.format_dropdown = undefined;\n",
       "\n",
       "    this.image_mode = 'full';\n",
       "\n",
       "    this.root = $('<div/>');\n",
       "    this._root_extra_style(this.root)\n",
       "    this.root.attr('style', 'display: inline-block');\n",
       "\n",
       "    $(parent_element).append(this.root);\n",
       "\n",
       "    this._init_header(this);\n",
       "    this._init_canvas(this);\n",
       "    this._init_toolbar(this);\n",
       "\n",
       "    var fig = this;\n",
       "\n",
       "    this.waiting = false;\n",
       "\n",
       "    this.ws.onopen =  function () {\n",
       "            fig.send_message(\"supports_binary\", {value: fig.supports_binary});\n",
       "            fig.send_message(\"send_image_mode\", {});\n",
       "            if (mpl.ratio != 1) {\n",
       "                fig.send_message(\"set_dpi_ratio\", {'dpi_ratio': mpl.ratio});\n",
       "            }\n",
       "            fig.send_message(\"refresh\", {});\n",
       "        }\n",
       "\n",
       "    this.imageObj.onload = function() {\n",
       "            if (fig.image_mode == 'full') {\n",
       "                // Full images could contain transparency (where diff images\n",
       "                // almost always do), so we need to clear the canvas so that\n",
       "                // there is no ghosting.\n",
       "                fig.context.clearRect(0, 0, fig.canvas.width, fig.canvas.height);\n",
       "            }\n",
       "            fig.context.drawImage(fig.imageObj, 0, 0);\n",
       "        };\n",
       "\n",
       "    this.imageObj.onunload = function() {\n",
       "        fig.ws.close();\n",
       "    }\n",
       "\n",
       "    this.ws.onmessage = this._make_on_message_function(this);\n",
       "\n",
       "    this.ondownload = ondownload;\n",
       "}\n",
       "\n",
       "mpl.figure.prototype._init_header = function() {\n",
       "    var titlebar = $(\n",
       "        '<div class=\"ui-dialog-titlebar ui-widget-header ui-corner-all ' +\n",
       "        'ui-helper-clearfix\"/>');\n",
       "    var titletext = $(\n",
       "        '<div class=\"ui-dialog-title\" style=\"width: 100%; ' +\n",
       "        'text-align: center; padding: 3px;\"/>');\n",
       "    titlebar.append(titletext)\n",
       "    this.root.append(titlebar);\n",
       "    this.header = titletext[0];\n",
       "}\n",
       "\n",
       "\n",
       "\n",
       "mpl.figure.prototype._canvas_extra_style = function(canvas_div) {\n",
       "\n",
       "}\n",
       "\n",
       "\n",
       "mpl.figure.prototype._root_extra_style = function(canvas_div) {\n",
       "\n",
       "}\n",
       "\n",
       "mpl.figure.prototype._init_canvas = function() {\n",
       "    var fig = this;\n",
       "\n",
       "    var canvas_div = $('<div/>');\n",
       "\n",
       "    canvas_div.attr('style', 'position: relative; clear: both; outline: 0');\n",
       "\n",
       "    function canvas_keyboard_event(event) {\n",
       "        return fig.key_event(event, event['data']);\n",
       "    }\n",
       "\n",
       "    canvas_div.keydown('key_press', canvas_keyboard_event);\n",
       "    canvas_div.keyup('key_release', canvas_keyboard_event);\n",
       "    this.canvas_div = canvas_div\n",
       "    this._canvas_extra_style(canvas_div)\n",
       "    this.root.append(canvas_div);\n",
       "\n",
       "    var canvas = $('<canvas/>');\n",
       "    canvas.addClass('mpl-canvas');\n",
       "    canvas.attr('style', \"left: 0; top: 0; z-index: 0; outline: 0\")\n",
       "\n",
       "    this.canvas = canvas[0];\n",
       "    this.context = canvas[0].getContext(\"2d\");\n",
       "\n",
       "    var backingStore = this.context.backingStorePixelRatio ||\n",
       "\tthis.context.webkitBackingStorePixelRatio ||\n",
       "\tthis.context.mozBackingStorePixelRatio ||\n",
       "\tthis.context.msBackingStorePixelRatio ||\n",
       "\tthis.context.oBackingStorePixelRatio ||\n",
       "\tthis.context.backingStorePixelRatio || 1;\n",
       "\n",
       "    mpl.ratio = (window.devicePixelRatio || 1) / backingStore;\n",
       "\n",
       "    var rubberband = $('<canvas/>');\n",
       "    rubberband.attr('style', \"position: absolute; left: 0; top: 0; z-index: 1;\")\n",
       "\n",
       "    var pass_mouse_events = true;\n",
       "\n",
       "    canvas_div.resizable({\n",
       "        start: function(event, ui) {\n",
       "            pass_mouse_events = false;\n",
       "        },\n",
       "        resize: function(event, ui) {\n",
       "            fig.request_resize(ui.size.width, ui.size.height);\n",
       "        },\n",
       "        stop: function(event, ui) {\n",
       "            pass_mouse_events = true;\n",
       "            fig.request_resize(ui.size.width, ui.size.height);\n",
       "        },\n",
       "    });\n",
       "\n",
       "    function mouse_event_fn(event) {\n",
       "        if (pass_mouse_events)\n",
       "            return fig.mouse_event(event, event['data']);\n",
       "    }\n",
       "\n",
       "    rubberband.mousedown('button_press', mouse_event_fn);\n",
       "    rubberband.mouseup('button_release', mouse_event_fn);\n",
       "    // Throttle sequential mouse events to 1 every 20ms.\n",
       "    rubberband.mousemove('motion_notify', mouse_event_fn);\n",
       "\n",
       "    rubberband.mouseenter('figure_enter', mouse_event_fn);\n",
       "    rubberband.mouseleave('figure_leave', mouse_event_fn);\n",
       "\n",
       "    canvas_div.on(\"wheel\", function (event) {\n",
       "        event = event.originalEvent;\n",
       "        event['data'] = 'scroll'\n",
       "        if (event.deltaY < 0) {\n",
       "            event.step = 1;\n",
       "        } else {\n",
       "            event.step = -1;\n",
       "        }\n",
       "        mouse_event_fn(event);\n",
       "    });\n",
       "\n",
       "    canvas_div.append(canvas);\n",
       "    canvas_div.append(rubberband);\n",
       "\n",
       "    this.rubberband = rubberband;\n",
       "    this.rubberband_canvas = rubberband[0];\n",
       "    this.rubberband_context = rubberband[0].getContext(\"2d\");\n",
       "    this.rubberband_context.strokeStyle = \"#000000\";\n",
       "\n",
       "    this._resize_canvas = function(width, height) {\n",
       "        // Keep the size of the canvas, canvas container, and rubber band\n",
       "        // canvas in synch.\n",
       "        canvas_div.css('width', width)\n",
       "        canvas_div.css('height', height)\n",
       "\n",
       "        canvas.attr('width', width * mpl.ratio);\n",
       "        canvas.attr('height', height * mpl.ratio);\n",
       "        canvas.attr('style', 'width: ' + width + 'px; height: ' + height + 'px;');\n",
       "\n",
       "        rubberband.attr('width', width);\n",
       "        rubberband.attr('height', height);\n",
       "    }\n",
       "\n",
       "    // Set the figure to an initial 600x600px, this will subsequently be updated\n",
       "    // upon first draw.\n",
       "    this._resize_canvas(600, 600);\n",
       "\n",
       "    // Disable right mouse context menu.\n",
       "    $(this.rubberband_canvas).bind(\"contextmenu\",function(e){\n",
       "        return false;\n",
       "    });\n",
       "\n",
       "    function set_focus () {\n",
       "        canvas.focus();\n",
       "        canvas_div.focus();\n",
       "    }\n",
       "\n",
       "    window.setTimeout(set_focus, 100);\n",
       "}\n",
       "\n",
       "mpl.figure.prototype._init_toolbar = function() {\n",
       "    var fig = this;\n",
       "\n",
       "    var nav_element = $('<div/>');\n",
       "    nav_element.attr('style', 'width: 100%');\n",
       "    this.root.append(nav_element);\n",
       "\n",
       "    // Define a callback function for later on.\n",
       "    function toolbar_event(event) {\n",
       "        return fig.toolbar_button_onclick(event['data']);\n",
       "    }\n",
       "    function toolbar_mouse_event(event) {\n",
       "        return fig.toolbar_button_onmouseover(event['data']);\n",
       "    }\n",
       "\n",
       "    for(var toolbar_ind in mpl.toolbar_items) {\n",
       "        var name = mpl.toolbar_items[toolbar_ind][0];\n",
       "        var tooltip = mpl.toolbar_items[toolbar_ind][1];\n",
       "        var image = mpl.toolbar_items[toolbar_ind][2];\n",
       "        var method_name = mpl.toolbar_items[toolbar_ind][3];\n",
       "\n",
       "        if (!name) {\n",
       "            // put a spacer in here.\n",
       "            continue;\n",
       "        }\n",
       "        var button = $('<button/>');\n",
       "        button.addClass('ui-button ui-widget ui-state-default ui-corner-all ' +\n",
       "                        'ui-button-icon-only');\n",
       "        button.attr('role', 'button');\n",
       "        button.attr('aria-disabled', 'false');\n",
       "        button.click(method_name, toolbar_event);\n",
       "        button.mouseover(tooltip, toolbar_mouse_event);\n",
       "\n",
       "        var icon_img = $('<span/>');\n",
       "        icon_img.addClass('ui-button-icon-primary ui-icon');\n",
       "        icon_img.addClass(image);\n",
       "        icon_img.addClass('ui-corner-all');\n",
       "\n",
       "        var tooltip_span = $('<span/>');\n",
       "        tooltip_span.addClass('ui-button-text');\n",
       "        tooltip_span.html(tooltip);\n",
       "\n",
       "        button.append(icon_img);\n",
       "        button.append(tooltip_span);\n",
       "\n",
       "        nav_element.append(button);\n",
       "    }\n",
       "\n",
       "    var fmt_picker_span = $('<span/>');\n",
       "\n",
       "    var fmt_picker = $('<select/>');\n",
       "    fmt_picker.addClass('mpl-toolbar-option ui-widget ui-widget-content');\n",
       "    fmt_picker_span.append(fmt_picker);\n",
       "    nav_element.append(fmt_picker_span);\n",
       "    this.format_dropdown = fmt_picker[0];\n",
       "\n",
       "    for (var ind in mpl.extensions) {\n",
       "        var fmt = mpl.extensions[ind];\n",
       "        var option = $(\n",
       "            '<option/>', {selected: fmt === mpl.default_extension}).html(fmt);\n",
       "        fmt_picker.append(option);\n",
       "    }\n",
       "\n",
       "    // Add hover states to the ui-buttons\n",
       "    $( \".ui-button\" ).hover(\n",
       "        function() { $(this).addClass(\"ui-state-hover\");},\n",
       "        function() { $(this).removeClass(\"ui-state-hover\");}\n",
       "    );\n",
       "\n",
       "    var status_bar = $('<span class=\"mpl-message\"/>');\n",
       "    nav_element.append(status_bar);\n",
       "    this.message = status_bar[0];\n",
       "}\n",
       "\n",
       "mpl.figure.prototype.request_resize = function(x_pixels, y_pixels) {\n",
       "    // Request matplotlib to resize the figure. Matplotlib will then trigger a resize in the client,\n",
       "    // which will in turn request a refresh of the image.\n",
       "    this.send_message('resize', {'width': x_pixels, 'height': y_pixels});\n",
       "}\n",
       "\n",
       "mpl.figure.prototype.send_message = function(type, properties) {\n",
       "    properties['type'] = type;\n",
       "    properties['figure_id'] = this.id;\n",
       "    this.ws.send(JSON.stringify(properties));\n",
       "}\n",
       "\n",
       "mpl.figure.prototype.send_draw_message = function() {\n",
       "    if (!this.waiting) {\n",
       "        this.waiting = true;\n",
       "        this.ws.send(JSON.stringify({type: \"draw\", figure_id: this.id}));\n",
       "    }\n",
       "}\n",
       "\n",
       "\n",
       "mpl.figure.prototype.handle_save = function(fig, msg) {\n",
       "    var format_dropdown = fig.format_dropdown;\n",
       "    var format = format_dropdown.options[format_dropdown.selectedIndex].value;\n",
       "    fig.ondownload(fig, format);\n",
       "}\n",
       "\n",
       "\n",
       "mpl.figure.prototype.handle_resize = function(fig, msg) {\n",
       "    var size = msg['size'];\n",
       "    if (size[0] != fig.canvas.width || size[1] != fig.canvas.height) {\n",
       "        fig._resize_canvas(size[0], size[1]);\n",
       "        fig.send_message(\"refresh\", {});\n",
       "    };\n",
       "}\n",
       "\n",
       "mpl.figure.prototype.handle_rubberband = function(fig, msg) {\n",
       "    var x0 = msg['x0'] / mpl.ratio;\n",
       "    var y0 = (fig.canvas.height - msg['y0']) / mpl.ratio;\n",
       "    var x1 = msg['x1'] / mpl.ratio;\n",
       "    var y1 = (fig.canvas.height - msg['y1']) / mpl.ratio;\n",
       "    x0 = Math.floor(x0) + 0.5;\n",
       "    y0 = Math.floor(y0) + 0.5;\n",
       "    x1 = Math.floor(x1) + 0.5;\n",
       "    y1 = Math.floor(y1) + 0.5;\n",
       "    var min_x = Math.min(x0, x1);\n",
       "    var min_y = Math.min(y0, y1);\n",
       "    var width = Math.abs(x1 - x0);\n",
       "    var height = Math.abs(y1 - y0);\n",
       "\n",
       "    fig.rubberband_context.clearRect(\n",
       "        0, 0, fig.canvas.width, fig.canvas.height);\n",
       "\n",
       "    fig.rubberband_context.strokeRect(min_x, min_y, width, height);\n",
       "}\n",
       "\n",
       "mpl.figure.prototype.handle_figure_label = function(fig, msg) {\n",
       "    // Updates the figure title.\n",
       "    fig.header.textContent = msg['label'];\n",
       "}\n",
       "\n",
       "mpl.figure.prototype.handle_cursor = function(fig, msg) {\n",
       "    var cursor = msg['cursor'];\n",
       "    switch(cursor)\n",
       "    {\n",
       "    case 0:\n",
       "        cursor = 'pointer';\n",
       "        break;\n",
       "    case 1:\n",
       "        cursor = 'default';\n",
       "        break;\n",
       "    case 2:\n",
       "        cursor = 'crosshair';\n",
       "        break;\n",
       "    case 3:\n",
       "        cursor = 'move';\n",
       "        break;\n",
       "    }\n",
       "    fig.rubberband_canvas.style.cursor = cursor;\n",
       "}\n",
       "\n",
       "mpl.figure.prototype.handle_message = function(fig, msg) {\n",
       "    fig.message.textContent = msg['message'];\n",
       "}\n",
       "\n",
       "mpl.figure.prototype.handle_draw = function(fig, msg) {\n",
       "    // Request the server to send over a new figure.\n",
       "    fig.send_draw_message();\n",
       "}\n",
       "\n",
       "mpl.figure.prototype.handle_image_mode = function(fig, msg) {\n",
       "    fig.image_mode = msg['mode'];\n",
       "}\n",
       "\n",
       "mpl.figure.prototype.updated_canvas_event = function() {\n",
       "    // Called whenever the canvas gets updated.\n",
       "    this.send_message(\"ack\", {});\n",
       "}\n",
       "\n",
       "// A function to construct a web socket function for onmessage handling.\n",
       "// Called in the figure constructor.\n",
       "mpl.figure.prototype._make_on_message_function = function(fig) {\n",
       "    return function socket_on_message(evt) {\n",
       "        if (evt.data instanceof Blob) {\n",
       "            /* FIXME: We get \"Resource interpreted as Image but\n",
       "             * transferred with MIME type text/plain:\" errors on\n",
       "             * Chrome.  But how to set the MIME type?  It doesn't seem\n",
       "             * to be part of the websocket stream */\n",
       "            evt.data.type = \"image/png\";\n",
       "\n",
       "            /* Free the memory for the previous frames */\n",
       "            if (fig.imageObj.src) {\n",
       "                (window.URL || window.webkitURL).revokeObjectURL(\n",
       "                    fig.imageObj.src);\n",
       "            }\n",
       "\n",
       "            fig.imageObj.src = (window.URL || window.webkitURL).createObjectURL(\n",
       "                evt.data);\n",
       "            fig.updated_canvas_event();\n",
       "            fig.waiting = false;\n",
       "            return;\n",
       "        }\n",
       "        else if (typeof evt.data === 'string' && evt.data.slice(0, 21) == \"data:image/png;base64\") {\n",
       "            fig.imageObj.src = evt.data;\n",
       "            fig.updated_canvas_event();\n",
       "            fig.waiting = false;\n",
       "            return;\n",
       "        }\n",
       "\n",
       "        var msg = JSON.parse(evt.data);\n",
       "        var msg_type = msg['type'];\n",
       "\n",
       "        // Call the  \"handle_{type}\" callback, which takes\n",
       "        // the figure and JSON message as its only arguments.\n",
       "        try {\n",
       "            var callback = fig[\"handle_\" + msg_type];\n",
       "        } catch (e) {\n",
       "            console.log(\"No handler for the '\" + msg_type + \"' message type: \", msg);\n",
       "            return;\n",
       "        }\n",
       "\n",
       "        if (callback) {\n",
       "            try {\n",
       "                // console.log(\"Handling '\" + msg_type + \"' message: \", msg);\n",
       "                callback(fig, msg);\n",
       "            } catch (e) {\n",
       "                console.log(\"Exception inside the 'handler_\" + msg_type + \"' callback:\", e, e.stack, msg);\n",
       "            }\n",
       "        }\n",
       "    };\n",
       "}\n",
       "\n",
       "// from http://stackoverflow.com/questions/1114465/getting-mouse-location-in-canvas\n",
       "mpl.findpos = function(e) {\n",
       "    //this section is from http://www.quirksmode.org/js/events_properties.html\n",
       "    var targ;\n",
       "    if (!e)\n",
       "        e = window.event;\n",
       "    if (e.target)\n",
       "        targ = e.target;\n",
       "    else if (e.srcElement)\n",
       "        targ = e.srcElement;\n",
       "    if (targ.nodeType == 3) // defeat Safari bug\n",
       "        targ = targ.parentNode;\n",
       "\n",
       "    // jQuery normalizes the pageX and pageY\n",
       "    // pageX,Y are the mouse positions relative to the document\n",
       "    // offset() returns the position of the element relative to the document\n",
       "    var x = e.pageX - $(targ).offset().left;\n",
       "    var y = e.pageY - $(targ).offset().top;\n",
       "\n",
       "    return {\"x\": x, \"y\": y};\n",
       "};\n",
       "\n",
       "/*\n",
       " * return a copy of an object with only non-object keys\n",
       " * we need this to avoid circular references\n",
       " * http://stackoverflow.com/a/24161582/3208463\n",
       " */\n",
       "function simpleKeys (original) {\n",
       "  return Object.keys(original).reduce(function (obj, key) {\n",
       "    if (typeof original[key] !== 'object')\n",
       "        obj[key] = original[key]\n",
       "    return obj;\n",
       "  }, {});\n",
       "}\n",
       "\n",
       "mpl.figure.prototype.mouse_event = function(event, name) {\n",
       "    var canvas_pos = mpl.findpos(event)\n",
       "\n",
       "    if (name === 'button_press')\n",
       "    {\n",
       "        this.canvas.focus();\n",
       "        this.canvas_div.focus();\n",
       "    }\n",
       "\n",
       "    var x = canvas_pos.x * mpl.ratio;\n",
       "    var y = canvas_pos.y * mpl.ratio;\n",
       "\n",
       "    this.send_message(name, {x: x, y: y, button: event.button,\n",
       "                             step: event.step,\n",
       "                             guiEvent: simpleKeys(event)});\n",
       "\n",
       "    /* This prevents the web browser from automatically changing to\n",
       "     * the text insertion cursor when the button is pressed.  We want\n",
       "     * to control all of the cursor setting manually through the\n",
       "     * 'cursor' event from matplotlib */\n",
       "    event.preventDefault();\n",
       "    return false;\n",
       "}\n",
       "\n",
       "mpl.figure.prototype._key_event_extra = function(event, name) {\n",
       "    // Handle any extra behaviour associated with a key event\n",
       "}\n",
       "\n",
       "mpl.figure.prototype.key_event = function(event, name) {\n",
       "\n",
       "    // Prevent repeat events\n",
       "    if (name == 'key_press')\n",
       "    {\n",
       "        if (event.which === this._key)\n",
       "            return;\n",
       "        else\n",
       "            this._key = event.which;\n",
       "    }\n",
       "    if (name == 'key_release')\n",
       "        this._key = null;\n",
       "\n",
       "    var value = '';\n",
       "    if (event.ctrlKey && event.which != 17)\n",
       "        value += \"ctrl+\";\n",
       "    if (event.altKey && event.which != 18)\n",
       "        value += \"alt+\";\n",
       "    if (event.shiftKey && event.which != 16)\n",
       "        value += \"shift+\";\n",
       "\n",
       "    value += 'k';\n",
       "    value += event.which.toString();\n",
       "\n",
       "    this._key_event_extra(event, name);\n",
       "\n",
       "    this.send_message(name, {key: value,\n",
       "                             guiEvent: simpleKeys(event)});\n",
       "    return false;\n",
       "}\n",
       "\n",
       "mpl.figure.prototype.toolbar_button_onclick = function(name) {\n",
       "    if (name == 'download') {\n",
       "        this.handle_save(this, null);\n",
       "    } else {\n",
       "        this.send_message(\"toolbar_button\", {name: name});\n",
       "    }\n",
       "};\n",
       "\n",
       "mpl.figure.prototype.toolbar_button_onmouseover = function(tooltip) {\n",
       "    this.message.textContent = tooltip;\n",
       "};\n",
       "mpl.toolbar_items = [[\"Home\", \"Reset original view\", \"fa fa-home icon-home\", \"home\"], [\"Back\", \"Back to previous view\", \"fa fa-arrow-left icon-arrow-left\", \"back\"], [\"Forward\", \"Forward to next view\", \"fa fa-arrow-right icon-arrow-right\", \"forward\"], [\"\", \"\", \"\", \"\"], [\"Pan\", \"Pan axes with left mouse, zoom with right\", \"fa fa-arrows icon-move\", \"pan\"], [\"Zoom\", \"Zoom to rectangle\", \"fa fa-square-o icon-check-empty\", \"zoom\"], [\"\", \"\", \"\", \"\"], [\"Download\", \"Download plot\", \"fa fa-floppy-o icon-save\", \"download\"]];\n",
       "\n",
       "mpl.extensions = [\"eps\", \"jpeg\", \"pdf\", \"png\", \"ps\", \"raw\", \"svg\", \"tif\"];\n",
       "\n",
       "mpl.default_extension = \"png\";var comm_websocket_adapter = function(comm) {\n",
       "    // Create a \"websocket\"-like object which calls the given IPython comm\n",
       "    // object with the appropriate methods. Currently this is a non binary\n",
       "    // socket, so there is still some room for performance tuning.\n",
       "    var ws = {};\n",
       "\n",
       "    ws.close = function() {\n",
       "        comm.close()\n",
       "    };\n",
       "    ws.send = function(m) {\n",
       "        //console.log('sending', m);\n",
       "        comm.send(m);\n",
       "    };\n",
       "    // Register the callback with on_msg.\n",
       "    comm.on_msg(function(msg) {\n",
       "        //console.log('receiving', msg['content']['data'], msg);\n",
       "        // Pass the mpl event to the overridden (by mpl) onmessage function.\n",
       "        ws.onmessage(msg['content']['data'])\n",
       "    });\n",
       "    return ws;\n",
       "}\n",
       "\n",
       "mpl.mpl_figure_comm = function(comm, msg) {\n",
       "    // This is the function which gets called when the mpl process\n",
       "    // starts-up an IPython Comm through the \"matplotlib\" channel.\n",
       "\n",
       "    var id = msg.content.data.id;\n",
       "    // Get hold of the div created by the display call when the Comm\n",
       "    // socket was opened in Python.\n",
       "    var element = $(\"#\" + id);\n",
       "    var ws_proxy = comm_websocket_adapter(comm)\n",
       "\n",
       "    function ondownload(figure, format) {\n",
       "        window.open(figure.imageObj.src);\n",
       "    }\n",
       "\n",
       "    var fig = new mpl.figure(id, ws_proxy,\n",
       "                           ondownload,\n",
       "                           element.get(0));\n",
       "\n",
       "    // Call onopen now - mpl needs it, as it is assuming we've passed it a real\n",
       "    // web socket which is closed, not our websocket->open comm proxy.\n",
       "    ws_proxy.onopen();\n",
       "\n",
       "    fig.parent_element = element.get(0);\n",
       "    fig.cell_info = mpl.find_output_cell(\"<div id='\" + id + \"'></div>\");\n",
       "    if (!fig.cell_info) {\n",
       "        console.error(\"Failed to find cell for figure\", id, fig);\n",
       "        return;\n",
       "    }\n",
       "\n",
       "    var output_index = fig.cell_info[2]\n",
       "    var cell = fig.cell_info[0];\n",
       "\n",
       "};\n",
       "\n",
       "mpl.figure.prototype.handle_close = function(fig, msg) {\n",
       "    var width = fig.canvas.width/mpl.ratio\n",
       "    fig.root.unbind('remove')\n",
       "\n",
       "    // Update the output cell to use the data from the current canvas.\n",
       "    fig.push_to_output();\n",
       "    var dataURL = fig.canvas.toDataURL();\n",
       "    // Re-enable the keyboard manager in IPython - without this line, in FF,\n",
       "    // the notebook keyboard shortcuts fail.\n",
       "    IPython.keyboard_manager.enable()\n",
       "    $(fig.parent_element).html('<img src=\"' + dataURL + '\" width=\"' + width + '\">');\n",
       "    fig.close_ws(fig, msg);\n",
       "}\n",
       "\n",
       "mpl.figure.prototype.close_ws = function(fig, msg){\n",
       "    fig.send_message('closing', msg);\n",
       "    // fig.ws.close()\n",
       "}\n",
       "\n",
       "mpl.figure.prototype.push_to_output = function(remove_interactive) {\n",
       "    // Turn the data on the canvas into data in the output cell.\n",
       "    var width = this.canvas.width/mpl.ratio\n",
       "    var dataURL = this.canvas.toDataURL();\n",
       "    this.cell_info[1]['text/html'] = '<img src=\"' + dataURL + '\" width=\"' + width + '\">';\n",
       "}\n",
       "\n",
       "mpl.figure.prototype.updated_canvas_event = function() {\n",
       "    // Tell IPython that the notebook contents must change.\n",
       "    IPython.notebook.set_dirty(true);\n",
       "    this.send_message(\"ack\", {});\n",
       "    var fig = this;\n",
       "    // Wait a second, then push the new image to the DOM so\n",
       "    // that it is saved nicely (might be nice to debounce this).\n",
       "    setTimeout(function () { fig.push_to_output() }, 1000);\n",
       "}\n",
       "\n",
       "mpl.figure.prototype._init_toolbar = function() {\n",
       "    var fig = this;\n",
       "\n",
       "    var nav_element = $('<div/>');\n",
       "    nav_element.attr('style', 'width: 100%');\n",
       "    this.root.append(nav_element);\n",
       "\n",
       "    // Define a callback function for later on.\n",
       "    function toolbar_event(event) {\n",
       "        return fig.toolbar_button_onclick(event['data']);\n",
       "    }\n",
       "    function toolbar_mouse_event(event) {\n",
       "        return fig.toolbar_button_onmouseover(event['data']);\n",
       "    }\n",
       "\n",
       "    for(var toolbar_ind in mpl.toolbar_items){\n",
       "        var name = mpl.toolbar_items[toolbar_ind][0];\n",
       "        var tooltip = mpl.toolbar_items[toolbar_ind][1];\n",
       "        var image = mpl.toolbar_items[toolbar_ind][2];\n",
       "        var method_name = mpl.toolbar_items[toolbar_ind][3];\n",
       "\n",
       "        if (!name) { continue; };\n",
       "\n",
       "        var button = $('<button class=\"btn btn-default\" href=\"#\" title=\"' + name + '\"><i class=\"fa ' + image + ' fa-lg\"></i></button>');\n",
       "        button.click(method_name, toolbar_event);\n",
       "        button.mouseover(tooltip, toolbar_mouse_event);\n",
       "        nav_element.append(button);\n",
       "    }\n",
       "\n",
       "    // Add the status bar.\n",
       "    var status_bar = $('<span class=\"mpl-message\" style=\"text-align:right; float: right;\"/>');\n",
       "    nav_element.append(status_bar);\n",
       "    this.message = status_bar[0];\n",
       "\n",
       "    // Add the close button to the window.\n",
       "    var buttongrp = $('<div class=\"btn-group inline pull-right\"></div>');\n",
       "    var button = $('<button class=\"btn btn-mini btn-primary\" href=\"#\" title=\"Stop Interaction\"><i class=\"fa fa-power-off icon-remove icon-large\"></i></button>');\n",
       "    button.click(function (evt) { fig.handle_close(fig, {}); } );\n",
       "    button.mouseover('Stop Interaction', toolbar_mouse_event);\n",
       "    buttongrp.append(button);\n",
       "    var titlebar = this.root.find($('.ui-dialog-titlebar'));\n",
       "    titlebar.prepend(buttongrp);\n",
       "}\n",
       "\n",
       "mpl.figure.prototype._root_extra_style = function(el){\n",
       "    var fig = this\n",
       "    el.on(\"remove\", function(){\n",
       "\tfig.close_ws(fig, {});\n",
       "    });\n",
       "}\n",
       "\n",
       "mpl.figure.prototype._canvas_extra_style = function(el){\n",
       "    // this is important to make the div 'focusable\n",
       "    el.attr('tabindex', 0)\n",
       "    // reach out to IPython and tell the keyboard manager to turn it's self\n",
       "    // off when our div gets focus\n",
       "\n",
       "    // location in version 3\n",
       "    if (IPython.notebook.keyboard_manager) {\n",
       "        IPython.notebook.keyboard_manager.register_events(el);\n",
       "    }\n",
       "    else {\n",
       "        // location in version 2\n",
       "        IPython.keyboard_manager.register_events(el);\n",
       "    }\n",
       "\n",
       "}\n",
       "\n",
       "mpl.figure.prototype._key_event_extra = function(event, name) {\n",
       "    var manager = IPython.notebook.keyboard_manager;\n",
       "    if (!manager)\n",
       "        manager = IPython.keyboard_manager;\n",
       "\n",
       "    // Check for shift+enter\n",
       "    if (event.shiftKey && event.which == 13) {\n",
       "        this.canvas_div.blur();\n",
       "        event.shiftKey = false;\n",
       "        // Send a \"J\" for go to next cell\n",
       "        event.which = 74;\n",
       "        event.keyCode = 74;\n",
       "        manager.command_mode();\n",
       "        manager.handle_keydown(event);\n",
       "    }\n",
       "}\n",
       "\n",
       "mpl.figure.prototype.handle_save = function(fig, msg) {\n",
       "    fig.ondownload(fig, null);\n",
       "}\n",
       "\n",
       "\n",
       "mpl.find_output_cell = function(html_output) {\n",
       "    // Return the cell and output element which can be found *uniquely* in the notebook.\n",
       "    // Note - this is a bit hacky, but it is done because the \"notebook_saving.Notebook\"\n",
       "    // IPython event is triggered only after the cells have been serialised, which for\n",
       "    // our purposes (turning an active figure into a static one), is too late.\n",
       "    var cells = IPython.notebook.get_cells();\n",
       "    var ncells = cells.length;\n",
       "    for (var i=0; i<ncells; i++) {\n",
       "        var cell = cells[i];\n",
       "        if (cell.cell_type === 'code'){\n",
       "            for (var j=0; j<cell.output_area.outputs.length; j++) {\n",
       "                var data = cell.output_area.outputs[j];\n",
       "                if (data.data) {\n",
       "                    // IPython >= 3 moved mimebundle to data attribute of output\n",
       "                    data = data.data;\n",
       "                }\n",
       "                if (data['text/html'] == html_output) {\n",
       "                    return [cell, data, j];\n",
       "                }\n",
       "            }\n",
       "        }\n",
       "    }\n",
       "}\n",
       "\n",
       "// Register the function which deals with the matplotlib target/channel.\n",
       "// The kernel may be null if the page has been refreshed.\n",
       "if (IPython.notebook.kernel != null) {\n",
       "    IPython.notebook.kernel.comm_manager.register_target('matplotlib', mpl.mpl_figure_comm);\n",
       "}\n"
      ],
      "text/plain": [
       "<IPython.core.display.Javascript object>"
      ]
     },
     "metadata": {},
     "output_type": "display_data"
    },
    {
     "data": {
      "text/html": [
       "<img src=\"data:image/png;base64,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\" width=\"1000\">"
      ],
      "text/plain": [
       "<IPython.core.display.HTML object>"
      ]
     },
     "metadata": {},
     "output_type": "display_data"
    }
   ],
   "source": [
    "from sklearn.metrics import roc_curve, auc\n",
    "lw=2\n",
    "fpr, tpr, thresholds = roc_curve(y_test, pred_proba[:, 1])\n",
    "roc_auc= auc(fpr, tpr)\n",
    "plt.figure()\n",
    "plt.plot(fpr, tpr, color='darkorange',\n",
    "         lw=lw, label='ROC curve (area = %0.2f)' % roc_auc)\n",
    "plt.plot([0, 1], [0, 1], color='navy', lw=lw, linestyle='--')\n",
    "plt.xlim([0.0, 1.0])\n",
    "plt.ylim([0.0, 1.05])\n",
    "plt.xlabel('False Positive Rate')\n",
    "plt.ylabel('True Positive Rate')\n",
    "plt.title('Receiver operating characteristic example')\n",
    "plt.legend(loc=\"lower right\")\n",
    "plt.show()"
   ]
  },
  {
   "cell_type": "code",
   "execution_count": 113,
   "metadata": {
    "ExecuteTime": {
     "end_time": "2020-02-13T04:51:55.228544Z",
     "start_time": "2020-02-13T04:51:55.219594Z"
    }
   },
   "outputs": [
    {
     "data": {
      "text/plain": [
       "DecisionTreeClassifier(class_weight=None, criterion='entropy', max_depth=3,\n",
       "                       max_features=None, max_leaf_nodes=None,\n",
       "                       min_impurity_decrease=0.0, min_impurity_split=None,\n",
       "                       min_samples_leaf=15, min_samples_split=100,\n",
       "                       min_weight_fraction_leaf=0.0, presort=False,\n",
       "                       random_state=None, splitter='best')"
      ]
     },
     "execution_count": 113,
     "metadata": {},
     "output_type": "execute_result"
    }
   ],
   "source": [
    "clf = tree.DecisionTreeClassifier(criterion='entropy', max_depth=3, min_samples_split=100, min_samples_leaf=15)\n",
    "clf.fit(X_train, y_train)"
   ]
  },
  {
   "cell_type": "code",
   "execution_count": 114,
   "metadata": {
    "ExecuteTime": {
     "end_time": "2020-02-13T04:51:59.583469Z",
     "start_time": "2020-02-13T04:51:59.446359Z"
    }
   },
   "outputs": [
    {
     "data": {
      "image/svg+xml": [
       "<svg height=\"433pt\" viewBox=\"0.00 0.00 753.50 433.00\" width=\"754pt\" xmlns=\"http://www.w3.org/2000/svg\" xmlns:xlink=\"http://www.w3.org/1999/xlink\">\n",
       "<g class=\"graph\" id=\"graph0\" transform=\"scale(1 1) rotate(0) translate(4 429)\">\n",
       "<title>Tree</title>\n",
       "<polygon fill=\"white\" points=\"-4,4 -4,-429 749.5,-429 749.5,4 -4,4\" stroke=\"none\"/>\n",
       "<!-- 0 -->\n",
       "<g class=\"node\" id=\"node1\"><title>0</title>\n",
       "<polygon fill=\"#f7d9c3\" points=\"433,-425 315,-425 315,-342 433,-342 433,-425\" stroke=\"black\"/>\n",
       "<text font-family=\"Times New Roman,serif\" font-size=\"14.00\" text-anchor=\"middle\" x=\"374\" y=\"-409.8\">Sex_male &lt;= 0.5</text>\n",
       "<text font-family=\"Times New Roman,serif\" font-size=\"14.00\" text-anchor=\"middle\" x=\"374\" y=\"-394.8\">entropy = 0.977</text>\n",
       "<text font-family=\"Times New Roman,serif\" font-size=\"14.00\" text-anchor=\"middle\" x=\"374\" y=\"-379.8\">samples = 596</text>\n",
       "<text font-family=\"Times New Roman,serif\" font-size=\"14.00\" text-anchor=\"middle\" x=\"374\" y=\"-364.8\">value = [351, 245]</text>\n",
       "<text font-family=\"Times New Roman,serif\" font-size=\"14.00\" text-anchor=\"middle\" x=\"374\" y=\"-349.8\">class = Died</text>\n",
       "</g>\n",
       "<!-- 1 -->\n",
       "<g class=\"node\" id=\"node2\"><title>1</title>\n",
       "<polygon fill=\"#72b9ec\" points=\"365.5,-306 254.5,-306 254.5,-223 365.5,-223 365.5,-306\" stroke=\"black\"/>\n",
       "<text font-family=\"Times New Roman,serif\" font-size=\"14.00\" text-anchor=\"middle\" x=\"310\" y=\"-290.8\">Pclass &lt;= 2.5</text>\n",
       "<text font-family=\"Times New Roman,serif\" font-size=\"14.00\" text-anchor=\"middle\" x=\"310\" y=\"-275.8\">entropy = 0.767</text>\n",
       "<text font-family=\"Times New Roman,serif\" font-size=\"14.00\" text-anchor=\"middle\" x=\"310\" y=\"-260.8\">samples = 219</text>\n",
       "<text font-family=\"Times New Roman,serif\" font-size=\"14.00\" text-anchor=\"middle\" x=\"310\" y=\"-245.8\">value = [49, 170]</text>\n",
       "<text font-family=\"Times New Roman,serif\" font-size=\"14.00\" text-anchor=\"middle\" x=\"310\" y=\"-230.8\">class = Survived</text>\n",
       "</g>\n",
       "<!-- 0&#45;&gt;1 -->\n",
       "<g class=\"edge\" id=\"edge1\"><title>0-&gt;1</title>\n",
       "<path d=\"M351.796,-341.907C347.03,-333.195 341.944,-323.897 337.019,-314.893\" fill=\"none\" stroke=\"black\"/>\n",
       "<polygon fill=\"black\" points=\"340.035,-313.114 332.165,-306.021 333.894,-316.474 340.035,-313.114\" stroke=\"black\"/>\n",
       "<text font-family=\"Times New Roman,serif\" font-size=\"14.00\" text-anchor=\"middle\" x=\"325.14\" y=\"-326.313\">True</text>\n",
       "</g>\n",
       "<!-- 8 -->\n",
       "<g class=\"node\" id=\"node9\"><title>8</title>\n",
       "<polygon fill=\"#eba06a\" points=\"494.5,-306 383.5,-306 383.5,-223 494.5,-223 494.5,-306\" stroke=\"black\"/>\n",
       "<text font-family=\"Times New Roman,serif\" font-size=\"14.00\" text-anchor=\"middle\" x=\"439\" y=\"-290.8\">Pclass &lt;= 1.5</text>\n",
       "<text font-family=\"Times New Roman,serif\" font-size=\"14.00\" text-anchor=\"middle\" x=\"439\" y=\"-275.8\">entropy = 0.72</text>\n",
       "<text font-family=\"Times New Roman,serif\" font-size=\"14.00\" text-anchor=\"middle\" x=\"439\" y=\"-260.8\">samples = 377</text>\n",
       "<text font-family=\"Times New Roman,serif\" font-size=\"14.00\" text-anchor=\"middle\" x=\"439\" y=\"-245.8\">value = [302, 75]</text>\n",
       "<text font-family=\"Times New Roman,serif\" font-size=\"14.00\" text-anchor=\"middle\" x=\"439\" y=\"-230.8\">class = Died</text>\n",
       "</g>\n",
       "<!-- 0&#45;&gt;8 -->\n",
       "<g class=\"edge\" id=\"edge8\"><title>0-&gt;8</title>\n",
       "<path d=\"M396.551,-341.907C401.391,-333.195 406.557,-323.897 411.559,-314.893\" fill=\"none\" stroke=\"black\"/>\n",
       "<polygon fill=\"black\" points=\"414.692,-316.462 416.488,-306.021 408.572,-313.063 414.692,-316.462\" stroke=\"black\"/>\n",
       "<text font-family=\"Times New Roman,serif\" font-size=\"14.00\" text-anchor=\"middle\" x=\"423.356\" y=\"-326.359\">False</text>\n",
       "</g>\n",
       "<!-- 2 -->\n",
       "<g class=\"node\" id=\"node3\"><title>2</title>\n",
       "<polygon fill=\"#40a0e6\" points=\"238,-187 128,-187 128,-104 238,-104 238,-187\" stroke=\"black\"/>\n",
       "<text font-family=\"Times New Roman,serif\" font-size=\"14.00\" text-anchor=\"middle\" x=\"183\" y=\"-171.8\">Fare &lt;= 26.125</text>\n",
       "<text font-family=\"Times New Roman,serif\" font-size=\"14.00\" text-anchor=\"middle\" x=\"183\" y=\"-156.8\">entropy = 0.212</text>\n",
       "<text font-family=\"Times New Roman,serif\" font-size=\"14.00\" text-anchor=\"middle\" x=\"183\" y=\"-141.8\">samples = 119</text>\n",
       "<text font-family=\"Times New Roman,serif\" font-size=\"14.00\" text-anchor=\"middle\" x=\"183\" y=\"-126.8\">value = [4, 115]</text>\n",
       "<text font-family=\"Times New Roman,serif\" font-size=\"14.00\" text-anchor=\"middle\" x=\"183\" y=\"-111.8\">class = Survived</text>\n",
       "</g>\n",
       "<!-- 1&#45;&gt;2 -->\n",
       "<g class=\"edge\" id=\"edge2\"><title>1-&gt;2</title>\n",
       "<path d=\"M265.938,-222.907C255.792,-213.56 244.913,-203.538 234.483,-193.929\" fill=\"none\" stroke=\"black\"/>\n",
       "<polygon fill=\"black\" points=\"236.71,-191.222 226.984,-187.021 231.967,-196.371 236.71,-191.222\" stroke=\"black\"/>\n",
       "</g>\n",
       "<!-- 5 -->\n",
       "<g class=\"node\" id=\"node6\"><title>5</title>\n",
       "<polygon fill=\"#dbedfa\" points=\"366,-187 256,-187 256,-104 366,-104 366,-187\" stroke=\"black\"/>\n",
       "<text font-family=\"Times New Roman,serif\" font-size=\"14.00\" text-anchor=\"middle\" x=\"311\" y=\"-171.8\">Fare &lt;= 23.7</text>\n",
       "<text font-family=\"Times New Roman,serif\" font-size=\"14.00\" text-anchor=\"middle\" x=\"311\" y=\"-156.8\">entropy = 0.993</text>\n",
       "<text font-family=\"Times New Roman,serif\" font-size=\"14.00\" text-anchor=\"middle\" x=\"311\" y=\"-141.8\">samples = 100</text>\n",
       "<text font-family=\"Times New Roman,serif\" font-size=\"14.00\" text-anchor=\"middle\" x=\"311\" y=\"-126.8\">value = [45, 55]</text>\n",
       "<text font-family=\"Times New Roman,serif\" font-size=\"14.00\" text-anchor=\"middle\" x=\"311\" y=\"-111.8\">class = Survived</text>\n",
       "</g>\n",
       "<!-- 1&#45;&gt;5 -->\n",
       "<g class=\"edge\" id=\"edge5\"><title>1-&gt;5</title>\n",
       "<path d=\"M310.347,-222.907C310.418,-214.649 310.493,-205.864 310.566,-197.302\" fill=\"none\" stroke=\"black\"/>\n",
       "<polygon fill=\"black\" points=\"314.068,-197.05 310.654,-187.021 307.068,-196.99 314.068,-197.05\" stroke=\"black\"/>\n",
       "</g>\n",
       "<!-- 3 -->\n",
       "<g class=\"node\" id=\"node4\"><title>3</title>\n",
       "<polygon fill=\"#4fa8e8\" points=\"110,-68 0,-68 0,-0 110,-0 110,-68\" stroke=\"black\"/>\n",
       "<text font-family=\"Times New Roman,serif\" font-size=\"14.00\" text-anchor=\"middle\" x=\"55\" y=\"-52.8\">entropy = 0.469</text>\n",
       "<text font-family=\"Times New Roman,serif\" font-size=\"14.00\" text-anchor=\"middle\" x=\"55\" y=\"-37.8\">samples = 40</text>\n",
       "<text font-family=\"Times New Roman,serif\" font-size=\"14.00\" text-anchor=\"middle\" x=\"55\" y=\"-22.8\">value = [4, 36]</text>\n",
       "<text font-family=\"Times New Roman,serif\" font-size=\"14.00\" text-anchor=\"middle\" x=\"55\" y=\"-7.8\">class = Survived</text>\n",
       "</g>\n",
       "<!-- 2&#45;&gt;3 -->\n",
       "<g class=\"edge\" id=\"edge3\"><title>2-&gt;3</title>\n",
       "<path d=\"M135.338,-103.726C124.356,-94.3318 112.686,-84.349 101.744,-74.9883\" fill=\"none\" stroke=\"black\"/>\n",
       "<polygon fill=\"black\" points=\"103.8,-72.1406 93.9256,-68.2996 99.2492,-77.4598 103.8,-72.1406\" stroke=\"black\"/>\n",
       "</g>\n",
       "<!-- 4 -->\n",
       "<g class=\"node\" id=\"node5\"><title>4</title>\n",
       "<polygon fill=\"#399de5\" points=\"238,-68 128,-68 128,-0 238,-0 238,-68\" stroke=\"black\"/>\n",
       "<text font-family=\"Times New Roman,serif\" font-size=\"14.00\" text-anchor=\"middle\" x=\"183\" y=\"-52.8\">entropy = 0.0</text>\n",
       "<text font-family=\"Times New Roman,serif\" font-size=\"14.00\" text-anchor=\"middle\" x=\"183\" y=\"-37.8\">samples = 79</text>\n",
       "<text font-family=\"Times New Roman,serif\" font-size=\"14.00\" text-anchor=\"middle\" x=\"183\" y=\"-22.8\">value = [0, 79]</text>\n",
       "<text font-family=\"Times New Roman,serif\" font-size=\"14.00\" text-anchor=\"middle\" x=\"183\" y=\"-7.8\">class = Survived</text>\n",
       "</g>\n",
       "<!-- 2&#45;&gt;4 -->\n",
       "<g class=\"edge\" id=\"edge4\"><title>2-&gt;4</title>\n",
       "<path d=\"M183,-103.726C183,-95.5175 183,-86.8595 183,-78.56\" fill=\"none\" stroke=\"black\"/>\n",
       "<polygon fill=\"black\" points=\"186.5,-78.2996 183,-68.2996 179.5,-78.2996 186.5,-78.2996\" stroke=\"black\"/>\n",
       "</g>\n",
       "<!-- 6 -->\n",
       "<g class=\"node\" id=\"node7\"><title>6</title>\n",
       "<polygon fill=\"#b7dbf6\" points=\"366,-68 256,-68 256,-0 366,-0 366,-68\" stroke=\"black\"/>\n",
       "<text font-family=\"Times New Roman,serif\" font-size=\"14.00\" text-anchor=\"middle\" x=\"311\" y=\"-52.8\">entropy = 0.964</text>\n",
       "<text font-family=\"Times New Roman,serif\" font-size=\"14.00\" text-anchor=\"middle\" x=\"311\" y=\"-37.8\">samples = 85</text>\n",
       "<text font-family=\"Times New Roman,serif\" font-size=\"14.00\" text-anchor=\"middle\" x=\"311\" y=\"-22.8\">value = [33, 52]</text>\n",
       "<text font-family=\"Times New Roman,serif\" font-size=\"14.00\" text-anchor=\"middle\" x=\"311\" y=\"-7.8\">class = Survived</text>\n",
       "</g>\n",
       "<!-- 5&#45;&gt;6 -->\n",
       "<g class=\"edge\" id=\"edge6\"><title>5-&gt;6</title>\n",
       "<path d=\"M311,-103.726C311,-95.5175 311,-86.8595 311,-78.56\" fill=\"none\" stroke=\"black\"/>\n",
       "<polygon fill=\"black\" points=\"314.5,-78.2996 311,-68.2996 307.5,-78.2996 314.5,-78.2996\" stroke=\"black\"/>\n",
       "</g>\n",
       "<!-- 7 -->\n",
       "<g class=\"node\" id=\"node8\"><title>7</title>\n",
       "<polygon fill=\"#eca06a\" points=\"490,-68 384,-68 384,-0 490,-0 490,-68\" stroke=\"black\"/>\n",
       "<text font-family=\"Times New Roman,serif\" font-size=\"14.00\" text-anchor=\"middle\" x=\"437\" y=\"-52.8\">entropy = 0.722</text>\n",
       "<text font-family=\"Times New Roman,serif\" font-size=\"14.00\" text-anchor=\"middle\" x=\"437\" y=\"-37.8\">samples = 15</text>\n",
       "<text font-family=\"Times New Roman,serif\" font-size=\"14.00\" text-anchor=\"middle\" x=\"437\" y=\"-22.8\">value = [12, 3]</text>\n",
       "<text font-family=\"Times New Roman,serif\" font-size=\"14.00\" text-anchor=\"middle\" x=\"437\" y=\"-7.8\">class = Died</text>\n",
       "</g>\n",
       "<!-- 5&#45;&gt;7 -->\n",
       "<g class=\"edge\" id=\"edge7\"><title>5-&gt;7</title>\n",
       "<path d=\"M357.918,-103.726C368.728,-94.3318 380.215,-84.349 390.986,-74.9883\" fill=\"none\" stroke=\"black\"/>\n",
       "<polygon fill=\"black\" points=\"393.43,-77.501 398.683,-68.2996 388.839,-72.2174 393.43,-77.501\" stroke=\"black\"/>\n",
       "</g>\n",
       "<!-- 9 -->\n",
       "<g class=\"node\" id=\"node10\"><title>9</title>\n",
       "<polygon fill=\"#f4ccaf\" points=\"491,-179.5 385,-179.5 385,-111.5 491,-111.5 491,-179.5\" stroke=\"black\"/>\n",
       "<text font-family=\"Times New Roman,serif\" font-size=\"14.00\" text-anchor=\"middle\" x=\"438\" y=\"-164.3\">entropy = 0.953</text>\n",
       "<text font-family=\"Times New Roman,serif\" font-size=\"14.00\" text-anchor=\"middle\" x=\"438\" y=\"-149.3\">samples = 83</text>\n",
       "<text font-family=\"Times New Roman,serif\" font-size=\"14.00\" text-anchor=\"middle\" x=\"438\" y=\"-134.3\">value = [52, 31]</text>\n",
       "<text font-family=\"Times New Roman,serif\" font-size=\"14.00\" text-anchor=\"middle\" x=\"438\" y=\"-119.3\">class = Died</text>\n",
       "</g>\n",
       "<!-- 8&#45;&gt;9 -->\n",
       "<g class=\"edge\" id=\"edge9\"><title>8-&gt;9</title>\n",
       "<path d=\"M438.653,-222.907C438.562,-212.204 438.463,-200.615 438.37,-189.776\" fill=\"none\" stroke=\"black\"/>\n",
       "<polygon fill=\"black\" points=\"441.869,-189.637 438.283,-179.667 434.869,-189.697 441.869,-189.637\" stroke=\"black\"/>\n",
       "</g>\n",
       "<!-- 10 -->\n",
       "<g class=\"node\" id=\"node11\"><title>10</title>\n",
       "<polygon fill=\"#ea975c\" points=\"620.5,-187 509.5,-187 509.5,-104 620.5,-104 620.5,-187\" stroke=\"black\"/>\n",
       "<text font-family=\"Times New Roman,serif\" font-size=\"14.00\" text-anchor=\"middle\" x=\"565\" y=\"-171.8\">Age &lt;= 13.0</text>\n",
       "<text font-family=\"Times New Roman,serif\" font-size=\"14.00\" text-anchor=\"middle\" x=\"565\" y=\"-156.8\">entropy = 0.609</text>\n",
       "<text font-family=\"Times New Roman,serif\" font-size=\"14.00\" text-anchor=\"middle\" x=\"565\" y=\"-141.8\">samples = 294</text>\n",
       "<text font-family=\"Times New Roman,serif\" font-size=\"14.00\" text-anchor=\"middle\" x=\"565\" y=\"-126.8\">value = [250, 44]</text>\n",
       "<text font-family=\"Times New Roman,serif\" font-size=\"14.00\" text-anchor=\"middle\" x=\"565\" y=\"-111.8\">class = Died</text>\n",
       "</g>\n",
       "<!-- 8&#45;&gt;10 -->\n",
       "<g class=\"edge\" id=\"edge10\"><title>8-&gt;10</title>\n",
       "<path d=\"M482.715,-222.907C492.781,-213.56 503.575,-203.538 513.923,-193.929\" fill=\"none\" stroke=\"black\"/>\n",
       "<polygon fill=\"black\" points=\"516.416,-196.39 521.362,-187.021 511.653,-191.261 516.416,-196.39\" stroke=\"black\"/>\n",
       "</g>\n",
       "<!-- 11 -->\n",
       "<g class=\"node\" id=\"node12\"><title>11</title>\n",
       "<polygon fill=\"#fdf4ed\" points=\"616,-68 510,-68 510,-0 616,-0 616,-68\" stroke=\"black\"/>\n",
       "<text font-family=\"Times New Roman,serif\" font-size=\"14.00\" text-anchor=\"middle\" x=\"563\" y=\"-52.8\">entropy = 0.998</text>\n",
       "<text font-family=\"Times New Roman,serif\" font-size=\"14.00\" text-anchor=\"middle\" x=\"563\" y=\"-37.8\">samples = 21</text>\n",
       "<text font-family=\"Times New Roman,serif\" font-size=\"14.00\" text-anchor=\"middle\" x=\"563\" y=\"-22.8\">value = [11, 10]</text>\n",
       "<text font-family=\"Times New Roman,serif\" font-size=\"14.00\" text-anchor=\"middle\" x=\"563\" y=\"-7.8\">class = Died</text>\n",
       "</g>\n",
       "<!-- 10&#45;&gt;11 -->\n",
       "<g class=\"edge\" id=\"edge11\"><title>10-&gt;11</title>\n",
       "<path d=\"M564.255,-103.726C564.105,-95.5175 563.947,-86.8595 563.796,-78.56\" fill=\"none\" stroke=\"black\"/>\n",
       "<polygon fill=\"black\" points=\"567.29,-78.234 563.608,-68.2996 560.292,-78.3619 567.29,-78.234\" stroke=\"black\"/>\n",
       "</g>\n",
       "<!-- 12 -->\n",
       "<g class=\"node\" id=\"node13\"><title>12</title>\n",
       "<polygon fill=\"#e99355\" points=\"745.5,-68 634.5,-68 634.5,-0 745.5,-0 745.5,-68\" stroke=\"black\"/>\n",
       "<text font-family=\"Times New Roman,serif\" font-size=\"14.00\" text-anchor=\"middle\" x=\"690\" y=\"-52.8\">entropy = 0.542</text>\n",
       "<text font-family=\"Times New Roman,serif\" font-size=\"14.00\" text-anchor=\"middle\" x=\"690\" y=\"-37.8\">samples = 273</text>\n",
       "<text font-family=\"Times New Roman,serif\" font-size=\"14.00\" text-anchor=\"middle\" x=\"690\" y=\"-22.8\">value = [239, 34]</text>\n",
       "<text font-family=\"Times New Roman,serif\" font-size=\"14.00\" text-anchor=\"middle\" x=\"690\" y=\"-7.8\">class = Died</text>\n",
       "</g>\n",
       "<!-- 10&#45;&gt;12 -->\n",
       "<g class=\"edge\" id=\"edge12\"><title>10-&gt;12</title>\n",
       "<path d=\"M611.545,-103.726C622.27,-94.3318 633.666,-84.349 644.351,-74.9883\" fill=\"none\" stroke=\"black\"/>\n",
       "<polygon fill=\"black\" points=\"646.771,-77.5217 651.987,-68.2996 642.158,-72.2562 646.771,-77.5217\" stroke=\"black\"/>\n",
       "</g>\n",
       "</g>\n",
       "</svg>"
      ],
      "text/plain": [
       "<IPython.core.display.SVG object>"
      ]
     },
     "metadata": {},
     "output_type": "display_data"
    }
   ],
   "source": [
    "#import os\n",
    "#os.environ[\"PATH\"] += os.pathsep + \"C:\\\\Program Files (x86)\\\\graphviz2.38\\\\bin\" \n",
    "\n",
    "graph = Source(tree.export_graphviz(clf, out_file=None, feature_names=list(X), class_names=['Died', 'Survived'], filled=True))\n",
    "display(SVG(graph.pipe(format='svg')))"
   ]
  },
  {
   "cell_type": "code",
   "execution_count": 115,
   "metadata": {
    "ExecuteTime": {
     "end_time": "2020-02-13T05:59:50.174756Z",
     "start_time": "2020-02-13T05:59:50.170720Z"
    }
   },
   "outputs": [],
   "source": [
    "from sklearn.ensemble import RandomForestClassifier\n",
    "\n",
    "clf_rf = RandomForestClassifier()"
   ]
  },
  {
   "cell_type": "code",
   "execution_count": 129,
   "metadata": {
    "ExecuteTime": {
     "end_time": "2020-02-13T06:04:04.234353Z",
     "start_time": "2020-02-13T06:04:04.230363Z"
    }
   },
   "outputs": [],
   "source": [
    "params = {'n_estimators':[150,200], 'max_depth':[2,5,7,10,12,14,17]}\n",
    "\n",
    "grid_s = GridSearchCV(clf_rf, param_grid=params, cv=5, n_jobs=-1)"
   ]
  },
  {
   "cell_type": "code",
   "execution_count": 130,
   "metadata": {
    "ExecuteTime": {
     "end_time": "2020-02-13T06:04:08.143438Z",
     "start_time": "2020-02-13T06:04:04.901075Z"
    }
   },
   "outputs": [
    {
     "data": {
      "text/plain": [
       "GridSearchCV(cv=5, error_score='raise-deprecating',\n",
       "             estimator=RandomForestClassifier(bootstrap=True, class_weight=None,\n",
       "                                              criterion='gini', max_depth=None,\n",
       "                                              max_features='auto',\n",
       "                                              max_leaf_nodes=None,\n",
       "                                              min_impurity_decrease=0.0,\n",
       "                                              min_impurity_split=None,\n",
       "                                              min_samples_leaf=1,\n",
       "                                              min_samples_split=2,\n",
       "                                              min_weight_fraction_leaf=0.0,\n",
       "                                              n_estimators='warn', n_jobs=None,\n",
       "                                              oob_score=False,\n",
       "                                              random_state=None, verbose=0,\n",
       "                                              warm_start=False),\n",
       "             iid='warn', n_jobs=-1,\n",
       "             param_grid={'max_depth': [2, 5, 7, 10, 12, 14, 17],\n",
       "                         'n_estimators': [150, 200]},\n",
       "             pre_dispatch='2*n_jobs', refit=True, return_train_score=False,\n",
       "             scoring=None, verbose=0)"
      ]
     },
     "execution_count": 130,
     "metadata": {},
     "output_type": "execute_result"
    }
   ],
   "source": [
    "grid_s.fit(X_train, y_train)"
   ]
  },
  {
   "cell_type": "code",
   "execution_count": 132,
   "metadata": {
    "ExecuteTime": {
     "end_time": "2020-02-13T06:04:16.413199Z",
     "start_time": "2020-02-13T06:04:16.409236Z"
    }
   },
   "outputs": [],
   "source": [
    "best_clf_rf = grid_s.best_estimator_"
   ]
  },
  {
   "cell_type": "code",
   "execution_count": 131,
   "metadata": {
    "ExecuteTime": {
     "end_time": "2020-02-13T06:04:11.609829Z",
     "start_time": "2020-02-13T06:04:11.604842Z"
    }
   },
   "outputs": [
    {
     "data": {
      "text/plain": [
       "{'max_depth': 7, 'n_estimators': 150}"
      ]
     },
     "execution_count": 131,
     "metadata": {},
     "output_type": "execute_result"
    }
   ],
   "source": [
    "grid_s.best_params_"
   ]
  },
  {
   "cell_type": "code",
   "execution_count": null,
   "metadata": {},
   "outputs": [],
   "source": [
    "cross_val_score()"
   ]
  },
  {
   "cell_type": "code",
   "execution_count": 137,
   "metadata": {
    "ExecuteTime": {
     "end_time": "2020-02-13T06:08:26.141085Z",
     "start_time": "2020-02-13T06:08:26.101191Z"
    }
   },
   "outputs": [
    {
     "name": "stdout",
     "output_type": "stream",
     "text": [
      "Precision: 0.7684210526315789, \n",
      "Recall: 0.7525773195876289\n",
      "Accuracy: 0.78\n"
     ]
    }
   ],
   "source": [
    "pred_rf = best_clf_rf.predict(X_test)\n",
    "\n",
    "print(f'Precision: {precision_score(y_test,pred_rf)}, \\nRecall: {recall_score(y_test, pred_rf)}\\nAccuracy: {cross_val_score(clf, X_test,y_test,cv=5).mean():0.2f}')"
   ]
  },
  {
   "cell_type": "code",
   "execution_count": 138,
   "metadata": {
    "ExecuteTime": {
     "end_time": "2020-02-13T06:09:17.779496Z",
     "start_time": "2020-02-13T06:09:17.759543Z"
    }
   },
   "outputs": [],
   "source": [
    "pred_rf_proba = best_clf_rf.predict_proba(X_test)"
   ]
  },
  {
   "cell_type": "code",
   "execution_count": 167,
   "metadata": {
    "ExecuteTime": {
     "end_time": "2020-02-13T07:09:42.929186Z",
     "start_time": "2020-02-13T07:09:42.899266Z"
    }
   },
   "outputs": [
    {
     "name": "stdout",
     "output_type": "stream",
     "text": [
      "D:\\Kaggle\\Titanic\n"
     ]
    }
   ],
   "source": [
    "!cd"
   ]
  },
  {
   "cell_type": "code",
   "execution_count": 139,
   "metadata": {
    "ExecuteTime": {
     "end_time": "2020-02-13T06:09:18.044496Z",
     "start_time": "2020-02-13T06:09:18.012581Z"
    }
   },
   "outputs": [
    {
     "data": {
      "application/javascript": [
       "/* Put everything inside the global mpl namespace */\n",
       "window.mpl = {};\n",
       "\n",
       "\n",
       "mpl.get_websocket_type = function() {\n",
       "    if (typeof(WebSocket) !== 'undefined') {\n",
       "        return WebSocket;\n",
       "    } else if (typeof(MozWebSocket) !== 'undefined') {\n",
       "        return MozWebSocket;\n",
       "    } else {\n",
       "        alert('Your browser does not have WebSocket support. ' +\n",
       "              'Please try Chrome, Safari or Firefox ≥ 6. ' +\n",
       "              'Firefox 4 and 5 are also supported but you ' +\n",
       "              'have to enable WebSockets in about:config.');\n",
       "    };\n",
       "}\n",
       "\n",
       "mpl.figure = function(figure_id, websocket, ondownload, parent_element) {\n",
       "    this.id = figure_id;\n",
       "\n",
       "    this.ws = websocket;\n",
       "\n",
       "    this.supports_binary = (this.ws.binaryType != undefined);\n",
       "\n",
       "    if (!this.supports_binary) {\n",
       "        var warnings = document.getElementById(\"mpl-warnings\");\n",
       "        if (warnings) {\n",
       "            warnings.style.display = 'block';\n",
       "            warnings.textContent = (\n",
       "                \"This browser does not support binary websocket messages. \" +\n",
       "                    \"Performance may be slow.\");\n",
       "        }\n",
       "    }\n",
       "\n",
       "    this.imageObj = new Image();\n",
       "\n",
       "    this.context = undefined;\n",
       "    this.message = undefined;\n",
       "    this.canvas = undefined;\n",
       "    this.rubberband_canvas = undefined;\n",
       "    this.rubberband_context = undefined;\n",
       "    this.format_dropdown = undefined;\n",
       "\n",
       "    this.image_mode = 'full';\n",
       "\n",
       "    this.root = $('<div/>');\n",
       "    this._root_extra_style(this.root)\n",
       "    this.root.attr('style', 'display: inline-block');\n",
       "\n",
       "    $(parent_element).append(this.root);\n",
       "\n",
       "    this._init_header(this);\n",
       "    this._init_canvas(this);\n",
       "    this._init_toolbar(this);\n",
       "\n",
       "    var fig = this;\n",
       "\n",
       "    this.waiting = false;\n",
       "\n",
       "    this.ws.onopen =  function () {\n",
       "            fig.send_message(\"supports_binary\", {value: fig.supports_binary});\n",
       "            fig.send_message(\"send_image_mode\", {});\n",
       "            if (mpl.ratio != 1) {\n",
       "                fig.send_message(\"set_dpi_ratio\", {'dpi_ratio': mpl.ratio});\n",
       "            }\n",
       "            fig.send_message(\"refresh\", {});\n",
       "        }\n",
       "\n",
       "    this.imageObj.onload = function() {\n",
       "            if (fig.image_mode == 'full') {\n",
       "                // Full images could contain transparency (where diff images\n",
       "                // almost always do), so we need to clear the canvas so that\n",
       "                // there is no ghosting.\n",
       "                fig.context.clearRect(0, 0, fig.canvas.width, fig.canvas.height);\n",
       "            }\n",
       "            fig.context.drawImage(fig.imageObj, 0, 0);\n",
       "        };\n",
       "\n",
       "    this.imageObj.onunload = function() {\n",
       "        fig.ws.close();\n",
       "    }\n",
       "\n",
       "    this.ws.onmessage = this._make_on_message_function(this);\n",
       "\n",
       "    this.ondownload = ondownload;\n",
       "}\n",
       "\n",
       "mpl.figure.prototype._init_header = function() {\n",
       "    var titlebar = $(\n",
       "        '<div class=\"ui-dialog-titlebar ui-widget-header ui-corner-all ' +\n",
       "        'ui-helper-clearfix\"/>');\n",
       "    var titletext = $(\n",
       "        '<div class=\"ui-dialog-title\" style=\"width: 100%; ' +\n",
       "        'text-align: center; padding: 3px;\"/>');\n",
       "    titlebar.append(titletext)\n",
       "    this.root.append(titlebar);\n",
       "    this.header = titletext[0];\n",
       "}\n",
       "\n",
       "\n",
       "\n",
       "mpl.figure.prototype._canvas_extra_style = function(canvas_div) {\n",
       "\n",
       "}\n",
       "\n",
       "\n",
       "mpl.figure.prototype._root_extra_style = function(canvas_div) {\n",
       "\n",
       "}\n",
       "\n",
       "mpl.figure.prototype._init_canvas = function() {\n",
       "    var fig = this;\n",
       "\n",
       "    var canvas_div = $('<div/>');\n",
       "\n",
       "    canvas_div.attr('style', 'position: relative; clear: both; outline: 0');\n",
       "\n",
       "    function canvas_keyboard_event(event) {\n",
       "        return fig.key_event(event, event['data']);\n",
       "    }\n",
       "\n",
       "    canvas_div.keydown('key_press', canvas_keyboard_event);\n",
       "    canvas_div.keyup('key_release', canvas_keyboard_event);\n",
       "    this.canvas_div = canvas_div\n",
       "    this._canvas_extra_style(canvas_div)\n",
       "    this.root.append(canvas_div);\n",
       "\n",
       "    var canvas = $('<canvas/>');\n",
       "    canvas.addClass('mpl-canvas');\n",
       "    canvas.attr('style', \"left: 0; top: 0; z-index: 0; outline: 0\")\n",
       "\n",
       "    this.canvas = canvas[0];\n",
       "    this.context = canvas[0].getContext(\"2d\");\n",
       "\n",
       "    var backingStore = this.context.backingStorePixelRatio ||\n",
       "\tthis.context.webkitBackingStorePixelRatio ||\n",
       "\tthis.context.mozBackingStorePixelRatio ||\n",
       "\tthis.context.msBackingStorePixelRatio ||\n",
       "\tthis.context.oBackingStorePixelRatio ||\n",
       "\tthis.context.backingStorePixelRatio || 1;\n",
       "\n",
       "    mpl.ratio = (window.devicePixelRatio || 1) / backingStore;\n",
       "\n",
       "    var rubberband = $('<canvas/>');\n",
       "    rubberband.attr('style', \"position: absolute; left: 0; top: 0; z-index: 1;\")\n",
       "\n",
       "    var pass_mouse_events = true;\n",
       "\n",
       "    canvas_div.resizable({\n",
       "        start: function(event, ui) {\n",
       "            pass_mouse_events = false;\n",
       "        },\n",
       "        resize: function(event, ui) {\n",
       "            fig.request_resize(ui.size.width, ui.size.height);\n",
       "        },\n",
       "        stop: function(event, ui) {\n",
       "            pass_mouse_events = true;\n",
       "            fig.request_resize(ui.size.width, ui.size.height);\n",
       "        },\n",
       "    });\n",
       "\n",
       "    function mouse_event_fn(event) {\n",
       "        if (pass_mouse_events)\n",
       "            return fig.mouse_event(event, event['data']);\n",
       "    }\n",
       "\n",
       "    rubberband.mousedown('button_press', mouse_event_fn);\n",
       "    rubberband.mouseup('button_release', mouse_event_fn);\n",
       "    // Throttle sequential mouse events to 1 every 20ms.\n",
       "    rubberband.mousemove('motion_notify', mouse_event_fn);\n",
       "\n",
       "    rubberband.mouseenter('figure_enter', mouse_event_fn);\n",
       "    rubberband.mouseleave('figure_leave', mouse_event_fn);\n",
       "\n",
       "    canvas_div.on(\"wheel\", function (event) {\n",
       "        event = event.originalEvent;\n",
       "        event['data'] = 'scroll'\n",
       "        if (event.deltaY < 0) {\n",
       "            event.step = 1;\n",
       "        } else {\n",
       "            event.step = -1;\n",
       "        }\n",
       "        mouse_event_fn(event);\n",
       "    });\n",
       "\n",
       "    canvas_div.append(canvas);\n",
       "    canvas_div.append(rubberband);\n",
       "\n",
       "    this.rubberband = rubberband;\n",
       "    this.rubberband_canvas = rubberband[0];\n",
       "    this.rubberband_context = rubberband[0].getContext(\"2d\");\n",
       "    this.rubberband_context.strokeStyle = \"#000000\";\n",
       "\n",
       "    this._resize_canvas = function(width, height) {\n",
       "        // Keep the size of the canvas, canvas container, and rubber band\n",
       "        // canvas in synch.\n",
       "        canvas_div.css('width', width)\n",
       "        canvas_div.css('height', height)\n",
       "\n",
       "        canvas.attr('width', width * mpl.ratio);\n",
       "        canvas.attr('height', height * mpl.ratio);\n",
       "        canvas.attr('style', 'width: ' + width + 'px; height: ' + height + 'px;');\n",
       "\n",
       "        rubberband.attr('width', width);\n",
       "        rubberband.attr('height', height);\n",
       "    }\n",
       "\n",
       "    // Set the figure to an initial 600x600px, this will subsequently be updated\n",
       "    // upon first draw.\n",
       "    this._resize_canvas(600, 600);\n",
       "\n",
       "    // Disable right mouse context menu.\n",
       "    $(this.rubberband_canvas).bind(\"contextmenu\",function(e){\n",
       "        return false;\n",
       "    });\n",
       "\n",
       "    function set_focus () {\n",
       "        canvas.focus();\n",
       "        canvas_div.focus();\n",
       "    }\n",
       "\n",
       "    window.setTimeout(set_focus, 100);\n",
       "}\n",
       "\n",
       "mpl.figure.prototype._init_toolbar = function() {\n",
       "    var fig = this;\n",
       "\n",
       "    var nav_element = $('<div/>');\n",
       "    nav_element.attr('style', 'width: 100%');\n",
       "    this.root.append(nav_element);\n",
       "\n",
       "    // Define a callback function for later on.\n",
       "    function toolbar_event(event) {\n",
       "        return fig.toolbar_button_onclick(event['data']);\n",
       "    }\n",
       "    function toolbar_mouse_event(event) {\n",
       "        return fig.toolbar_button_onmouseover(event['data']);\n",
       "    }\n",
       "\n",
       "    for(var toolbar_ind in mpl.toolbar_items) {\n",
       "        var name = mpl.toolbar_items[toolbar_ind][0];\n",
       "        var tooltip = mpl.toolbar_items[toolbar_ind][1];\n",
       "        var image = mpl.toolbar_items[toolbar_ind][2];\n",
       "        var method_name = mpl.toolbar_items[toolbar_ind][3];\n",
       "\n",
       "        if (!name) {\n",
       "            // put a spacer in here.\n",
       "            continue;\n",
       "        }\n",
       "        var button = $('<button/>');\n",
       "        button.addClass('ui-button ui-widget ui-state-default ui-corner-all ' +\n",
       "                        'ui-button-icon-only');\n",
       "        button.attr('role', 'button');\n",
       "        button.attr('aria-disabled', 'false');\n",
       "        button.click(method_name, toolbar_event);\n",
       "        button.mouseover(tooltip, toolbar_mouse_event);\n",
       "\n",
       "        var icon_img = $('<span/>');\n",
       "        icon_img.addClass('ui-button-icon-primary ui-icon');\n",
       "        icon_img.addClass(image);\n",
       "        icon_img.addClass('ui-corner-all');\n",
       "\n",
       "        var tooltip_span = $('<span/>');\n",
       "        tooltip_span.addClass('ui-button-text');\n",
       "        tooltip_span.html(tooltip);\n",
       "\n",
       "        button.append(icon_img);\n",
       "        button.append(tooltip_span);\n",
       "\n",
       "        nav_element.append(button);\n",
       "    }\n",
       "\n",
       "    var fmt_picker_span = $('<span/>');\n",
       "\n",
       "    var fmt_picker = $('<select/>');\n",
       "    fmt_picker.addClass('mpl-toolbar-option ui-widget ui-widget-content');\n",
       "    fmt_picker_span.append(fmt_picker);\n",
       "    nav_element.append(fmt_picker_span);\n",
       "    this.format_dropdown = fmt_picker[0];\n",
       "\n",
       "    for (var ind in mpl.extensions) {\n",
       "        var fmt = mpl.extensions[ind];\n",
       "        var option = $(\n",
       "            '<option/>', {selected: fmt === mpl.default_extension}).html(fmt);\n",
       "        fmt_picker.append(option);\n",
       "    }\n",
       "\n",
       "    // Add hover states to the ui-buttons\n",
       "    $( \".ui-button\" ).hover(\n",
       "        function() { $(this).addClass(\"ui-state-hover\");},\n",
       "        function() { $(this).removeClass(\"ui-state-hover\");}\n",
       "    );\n",
       "\n",
       "    var status_bar = $('<span class=\"mpl-message\"/>');\n",
       "    nav_element.append(status_bar);\n",
       "    this.message = status_bar[0];\n",
       "}\n",
       "\n",
       "mpl.figure.prototype.request_resize = function(x_pixels, y_pixels) {\n",
       "    // Request matplotlib to resize the figure. Matplotlib will then trigger a resize in the client,\n",
       "    // which will in turn request a refresh of the image.\n",
       "    this.send_message('resize', {'width': x_pixels, 'height': y_pixels});\n",
       "}\n",
       "\n",
       "mpl.figure.prototype.send_message = function(type, properties) {\n",
       "    properties['type'] = type;\n",
       "    properties['figure_id'] = this.id;\n",
       "    this.ws.send(JSON.stringify(properties));\n",
       "}\n",
       "\n",
       "mpl.figure.prototype.send_draw_message = function() {\n",
       "    if (!this.waiting) {\n",
       "        this.waiting = true;\n",
       "        this.ws.send(JSON.stringify({type: \"draw\", figure_id: this.id}));\n",
       "    }\n",
       "}\n",
       "\n",
       "\n",
       "mpl.figure.prototype.handle_save = function(fig, msg) {\n",
       "    var format_dropdown = fig.format_dropdown;\n",
       "    var format = format_dropdown.options[format_dropdown.selectedIndex].value;\n",
       "    fig.ondownload(fig, format);\n",
       "}\n",
       "\n",
       "\n",
       "mpl.figure.prototype.handle_resize = function(fig, msg) {\n",
       "    var size = msg['size'];\n",
       "    if (size[0] != fig.canvas.width || size[1] != fig.canvas.height) {\n",
       "        fig._resize_canvas(size[0], size[1]);\n",
       "        fig.send_message(\"refresh\", {});\n",
       "    };\n",
       "}\n",
       "\n",
       "mpl.figure.prototype.handle_rubberband = function(fig, msg) {\n",
       "    var x0 = msg['x0'] / mpl.ratio;\n",
       "    var y0 = (fig.canvas.height - msg['y0']) / mpl.ratio;\n",
       "    var x1 = msg['x1'] / mpl.ratio;\n",
       "    var y1 = (fig.canvas.height - msg['y1']) / mpl.ratio;\n",
       "    x0 = Math.floor(x0) + 0.5;\n",
       "    y0 = Math.floor(y0) + 0.5;\n",
       "    x1 = Math.floor(x1) + 0.5;\n",
       "    y1 = Math.floor(y1) + 0.5;\n",
       "    var min_x = Math.min(x0, x1);\n",
       "    var min_y = Math.min(y0, y1);\n",
       "    var width = Math.abs(x1 - x0);\n",
       "    var height = Math.abs(y1 - y0);\n",
       "\n",
       "    fig.rubberband_context.clearRect(\n",
       "        0, 0, fig.canvas.width, fig.canvas.height);\n",
       "\n",
       "    fig.rubberband_context.strokeRect(min_x, min_y, width, height);\n",
       "}\n",
       "\n",
       "mpl.figure.prototype.handle_figure_label = function(fig, msg) {\n",
       "    // Updates the figure title.\n",
       "    fig.header.textContent = msg['label'];\n",
       "}\n",
       "\n",
       "mpl.figure.prototype.handle_cursor = function(fig, msg) {\n",
       "    var cursor = msg['cursor'];\n",
       "    switch(cursor)\n",
       "    {\n",
       "    case 0:\n",
       "        cursor = 'pointer';\n",
       "        break;\n",
       "    case 1:\n",
       "        cursor = 'default';\n",
       "        break;\n",
       "    case 2:\n",
       "        cursor = 'crosshair';\n",
       "        break;\n",
       "    case 3:\n",
       "        cursor = 'move';\n",
       "        break;\n",
       "    }\n",
       "    fig.rubberband_canvas.style.cursor = cursor;\n",
       "}\n",
       "\n",
       "mpl.figure.prototype.handle_message = function(fig, msg) {\n",
       "    fig.message.textContent = msg['message'];\n",
       "}\n",
       "\n",
       "mpl.figure.prototype.handle_draw = function(fig, msg) {\n",
       "    // Request the server to send over a new figure.\n",
       "    fig.send_draw_message();\n",
       "}\n",
       "\n",
       "mpl.figure.prototype.handle_image_mode = function(fig, msg) {\n",
       "    fig.image_mode = msg['mode'];\n",
       "}\n",
       "\n",
       "mpl.figure.prototype.updated_canvas_event = function() {\n",
       "    // Called whenever the canvas gets updated.\n",
       "    this.send_message(\"ack\", {});\n",
       "}\n",
       "\n",
       "// A function to construct a web socket function for onmessage handling.\n",
       "// Called in the figure constructor.\n",
       "mpl.figure.prototype._make_on_message_function = function(fig) {\n",
       "    return function socket_on_message(evt) {\n",
       "        if (evt.data instanceof Blob) {\n",
       "            /* FIXME: We get \"Resource interpreted as Image but\n",
       "             * transferred with MIME type text/plain:\" errors on\n",
       "             * Chrome.  But how to set the MIME type?  It doesn't seem\n",
       "             * to be part of the websocket stream */\n",
       "            evt.data.type = \"image/png\";\n",
       "\n",
       "            /* Free the memory for the previous frames */\n",
       "            if (fig.imageObj.src) {\n",
       "                (window.URL || window.webkitURL).revokeObjectURL(\n",
       "                    fig.imageObj.src);\n",
       "            }\n",
       "\n",
       "            fig.imageObj.src = (window.URL || window.webkitURL).createObjectURL(\n",
       "                evt.data);\n",
       "            fig.updated_canvas_event();\n",
       "            fig.waiting = false;\n",
       "            return;\n",
       "        }\n",
       "        else if (typeof evt.data === 'string' && evt.data.slice(0, 21) == \"data:image/png;base64\") {\n",
       "            fig.imageObj.src = evt.data;\n",
       "            fig.updated_canvas_event();\n",
       "            fig.waiting = false;\n",
       "            return;\n",
       "        }\n",
       "\n",
       "        var msg = JSON.parse(evt.data);\n",
       "        var msg_type = msg['type'];\n",
       "\n",
       "        // Call the  \"handle_{type}\" callback, which takes\n",
       "        // the figure and JSON message as its only arguments.\n",
       "        try {\n",
       "            var callback = fig[\"handle_\" + msg_type];\n",
       "        } catch (e) {\n",
       "            console.log(\"No handler for the '\" + msg_type + \"' message type: \", msg);\n",
       "            return;\n",
       "        }\n",
       "\n",
       "        if (callback) {\n",
       "            try {\n",
       "                // console.log(\"Handling '\" + msg_type + \"' message: \", msg);\n",
       "                callback(fig, msg);\n",
       "            } catch (e) {\n",
       "                console.log(\"Exception inside the 'handler_\" + msg_type + \"' callback:\", e, e.stack, msg);\n",
       "            }\n",
       "        }\n",
       "    };\n",
       "}\n",
       "\n",
       "// from http://stackoverflow.com/questions/1114465/getting-mouse-location-in-canvas\n",
       "mpl.findpos = function(e) {\n",
       "    //this section is from http://www.quirksmode.org/js/events_properties.html\n",
       "    var targ;\n",
       "    if (!e)\n",
       "        e = window.event;\n",
       "    if (e.target)\n",
       "        targ = e.target;\n",
       "    else if (e.srcElement)\n",
       "        targ = e.srcElement;\n",
       "    if (targ.nodeType == 3) // defeat Safari bug\n",
       "        targ = targ.parentNode;\n",
       "\n",
       "    // jQuery normalizes the pageX and pageY\n",
       "    // pageX,Y are the mouse positions relative to the document\n",
       "    // offset() returns the position of the element relative to the document\n",
       "    var x = e.pageX - $(targ).offset().left;\n",
       "    var y = e.pageY - $(targ).offset().top;\n",
       "\n",
       "    return {\"x\": x, \"y\": y};\n",
       "};\n",
       "\n",
       "/*\n",
       " * return a copy of an object with only non-object keys\n",
       " * we need this to avoid circular references\n",
       " * http://stackoverflow.com/a/24161582/3208463\n",
       " */\n",
       "function simpleKeys (original) {\n",
       "  return Object.keys(original).reduce(function (obj, key) {\n",
       "    if (typeof original[key] !== 'object')\n",
       "        obj[key] = original[key]\n",
       "    return obj;\n",
       "  }, {});\n",
       "}\n",
       "\n",
       "mpl.figure.prototype.mouse_event = function(event, name) {\n",
       "    var canvas_pos = mpl.findpos(event)\n",
       "\n",
       "    if (name === 'button_press')\n",
       "    {\n",
       "        this.canvas.focus();\n",
       "        this.canvas_div.focus();\n",
       "    }\n",
       "\n",
       "    var x = canvas_pos.x * mpl.ratio;\n",
       "    var y = canvas_pos.y * mpl.ratio;\n",
       "\n",
       "    this.send_message(name, {x: x, y: y, button: event.button,\n",
       "                             step: event.step,\n",
       "                             guiEvent: simpleKeys(event)});\n",
       "\n",
       "    /* This prevents the web browser from automatically changing to\n",
       "     * the text insertion cursor when the button is pressed.  We want\n",
       "     * to control all of the cursor setting manually through the\n",
       "     * 'cursor' event from matplotlib */\n",
       "    event.preventDefault();\n",
       "    return false;\n",
       "}\n",
       "\n",
       "mpl.figure.prototype._key_event_extra = function(event, name) {\n",
       "    // Handle any extra behaviour associated with a key event\n",
       "}\n",
       "\n",
       "mpl.figure.prototype.key_event = function(event, name) {\n",
       "\n",
       "    // Prevent repeat events\n",
       "    if (name == 'key_press')\n",
       "    {\n",
       "        if (event.which === this._key)\n",
       "            return;\n",
       "        else\n",
       "            this._key = event.which;\n",
       "    }\n",
       "    if (name == 'key_release')\n",
       "        this._key = null;\n",
       "\n",
       "    var value = '';\n",
       "    if (event.ctrlKey && event.which != 17)\n",
       "        value += \"ctrl+\";\n",
       "    if (event.altKey && event.which != 18)\n",
       "        value += \"alt+\";\n",
       "    if (event.shiftKey && event.which != 16)\n",
       "        value += \"shift+\";\n",
       "\n",
       "    value += 'k';\n",
       "    value += event.which.toString();\n",
       "\n",
       "    this._key_event_extra(event, name);\n",
       "\n",
       "    this.send_message(name, {key: value,\n",
       "                             guiEvent: simpleKeys(event)});\n",
       "    return false;\n",
       "}\n",
       "\n",
       "mpl.figure.prototype.toolbar_button_onclick = function(name) {\n",
       "    if (name == 'download') {\n",
       "        this.handle_save(this, null);\n",
       "    } else {\n",
       "        this.send_message(\"toolbar_button\", {name: name});\n",
       "    }\n",
       "};\n",
       "\n",
       "mpl.figure.prototype.toolbar_button_onmouseover = function(tooltip) {\n",
       "    this.message.textContent = tooltip;\n",
       "};\n",
       "mpl.toolbar_items = [[\"Home\", \"Reset original view\", \"fa fa-home icon-home\", \"home\"], [\"Back\", \"Back to previous view\", \"fa fa-arrow-left icon-arrow-left\", \"back\"], [\"Forward\", \"Forward to next view\", \"fa fa-arrow-right icon-arrow-right\", \"forward\"], [\"\", \"\", \"\", \"\"], [\"Pan\", \"Pan axes with left mouse, zoom with right\", \"fa fa-arrows icon-move\", \"pan\"], [\"Zoom\", \"Zoom to rectangle\", \"fa fa-square-o icon-check-empty\", \"zoom\"], [\"\", \"\", \"\", \"\"], [\"Download\", \"Download plot\", \"fa fa-floppy-o icon-save\", \"download\"]];\n",
       "\n",
       "mpl.extensions = [\"eps\", \"jpeg\", \"pdf\", \"png\", \"ps\", \"raw\", \"svg\", \"tif\"];\n",
       "\n",
       "mpl.default_extension = \"png\";var comm_websocket_adapter = function(comm) {\n",
       "    // Create a \"websocket\"-like object which calls the given IPython comm\n",
       "    // object with the appropriate methods. Currently this is a non binary\n",
       "    // socket, so there is still some room for performance tuning.\n",
       "    var ws = {};\n",
       "\n",
       "    ws.close = function() {\n",
       "        comm.close()\n",
       "    };\n",
       "    ws.send = function(m) {\n",
       "        //console.log('sending', m);\n",
       "        comm.send(m);\n",
       "    };\n",
       "    // Register the callback with on_msg.\n",
       "    comm.on_msg(function(msg) {\n",
       "        //console.log('receiving', msg['content']['data'], msg);\n",
       "        // Pass the mpl event to the overridden (by mpl) onmessage function.\n",
       "        ws.onmessage(msg['content']['data'])\n",
       "    });\n",
       "    return ws;\n",
       "}\n",
       "\n",
       "mpl.mpl_figure_comm = function(comm, msg) {\n",
       "    // This is the function which gets called when the mpl process\n",
       "    // starts-up an IPython Comm through the \"matplotlib\" channel.\n",
       "\n",
       "    var id = msg.content.data.id;\n",
       "    // Get hold of the div created by the display call when the Comm\n",
       "    // socket was opened in Python.\n",
       "    var element = $(\"#\" + id);\n",
       "    var ws_proxy = comm_websocket_adapter(comm)\n",
       "\n",
       "    function ondownload(figure, format) {\n",
       "        window.open(figure.imageObj.src);\n",
       "    }\n",
       "\n",
       "    var fig = new mpl.figure(id, ws_proxy,\n",
       "                           ondownload,\n",
       "                           element.get(0));\n",
       "\n",
       "    // Call onopen now - mpl needs it, as it is assuming we've passed it a real\n",
       "    // web socket which is closed, not our websocket->open comm proxy.\n",
       "    ws_proxy.onopen();\n",
       "\n",
       "    fig.parent_element = element.get(0);\n",
       "    fig.cell_info = mpl.find_output_cell(\"<div id='\" + id + \"'></div>\");\n",
       "    if (!fig.cell_info) {\n",
       "        console.error(\"Failed to find cell for figure\", id, fig);\n",
       "        return;\n",
       "    }\n",
       "\n",
       "    var output_index = fig.cell_info[2]\n",
       "    var cell = fig.cell_info[0];\n",
       "\n",
       "};\n",
       "\n",
       "mpl.figure.prototype.handle_close = function(fig, msg) {\n",
       "    var width = fig.canvas.width/mpl.ratio\n",
       "    fig.root.unbind('remove')\n",
       "\n",
       "    // Update the output cell to use the data from the current canvas.\n",
       "    fig.push_to_output();\n",
       "    var dataURL = fig.canvas.toDataURL();\n",
       "    // Re-enable the keyboard manager in IPython - without this line, in FF,\n",
       "    // the notebook keyboard shortcuts fail.\n",
       "    IPython.keyboard_manager.enable()\n",
       "    $(fig.parent_element).html('<img src=\"' + dataURL + '\" width=\"' + width + '\">');\n",
       "    fig.close_ws(fig, msg);\n",
       "}\n",
       "\n",
       "mpl.figure.prototype.close_ws = function(fig, msg){\n",
       "    fig.send_message('closing', msg);\n",
       "    // fig.ws.close()\n",
       "}\n",
       "\n",
       "mpl.figure.prototype.push_to_output = function(remove_interactive) {\n",
       "    // Turn the data on the canvas into data in the output cell.\n",
       "    var width = this.canvas.width/mpl.ratio\n",
       "    var dataURL = this.canvas.toDataURL();\n",
       "    this.cell_info[1]['text/html'] = '<img src=\"' + dataURL + '\" width=\"' + width + '\">';\n",
       "}\n",
       "\n",
       "mpl.figure.prototype.updated_canvas_event = function() {\n",
       "    // Tell IPython that the notebook contents must change.\n",
       "    IPython.notebook.set_dirty(true);\n",
       "    this.send_message(\"ack\", {});\n",
       "    var fig = this;\n",
       "    // Wait a second, then push the new image to the DOM so\n",
       "    // that it is saved nicely (might be nice to debounce this).\n",
       "    setTimeout(function () { fig.push_to_output() }, 1000);\n",
       "}\n",
       "\n",
       "mpl.figure.prototype._init_toolbar = function() {\n",
       "    var fig = this;\n",
       "\n",
       "    var nav_element = $('<div/>');\n",
       "    nav_element.attr('style', 'width: 100%');\n",
       "    this.root.append(nav_element);\n",
       "\n",
       "    // Define a callback function for later on.\n",
       "    function toolbar_event(event) {\n",
       "        return fig.toolbar_button_onclick(event['data']);\n",
       "    }\n",
       "    function toolbar_mouse_event(event) {\n",
       "        return fig.toolbar_button_onmouseover(event['data']);\n",
       "    }\n",
       "\n",
       "    for(var toolbar_ind in mpl.toolbar_items){\n",
       "        var name = mpl.toolbar_items[toolbar_ind][0];\n",
       "        var tooltip = mpl.toolbar_items[toolbar_ind][1];\n",
       "        var image = mpl.toolbar_items[toolbar_ind][2];\n",
       "        var method_name = mpl.toolbar_items[toolbar_ind][3];\n",
       "\n",
       "        if (!name) { continue; };\n",
       "\n",
       "        var button = $('<button class=\"btn btn-default\" href=\"#\" title=\"' + name + '\"><i class=\"fa ' + image + ' fa-lg\"></i></button>');\n",
       "        button.click(method_name, toolbar_event);\n",
       "        button.mouseover(tooltip, toolbar_mouse_event);\n",
       "        nav_element.append(button);\n",
       "    }\n",
       "\n",
       "    // Add the status bar.\n",
       "    var status_bar = $('<span class=\"mpl-message\" style=\"text-align:right; float: right;\"/>');\n",
       "    nav_element.append(status_bar);\n",
       "    this.message = status_bar[0];\n",
       "\n",
       "    // Add the close button to the window.\n",
       "    var buttongrp = $('<div class=\"btn-group inline pull-right\"></div>');\n",
       "    var button = $('<button class=\"btn btn-mini btn-primary\" href=\"#\" title=\"Stop Interaction\"><i class=\"fa fa-power-off icon-remove icon-large\"></i></button>');\n",
       "    button.click(function (evt) { fig.handle_close(fig, {}); } );\n",
       "    button.mouseover('Stop Interaction', toolbar_mouse_event);\n",
       "    buttongrp.append(button);\n",
       "    var titlebar = this.root.find($('.ui-dialog-titlebar'));\n",
       "    titlebar.prepend(buttongrp);\n",
       "}\n",
       "\n",
       "mpl.figure.prototype._root_extra_style = function(el){\n",
       "    var fig = this\n",
       "    el.on(\"remove\", function(){\n",
       "\tfig.close_ws(fig, {});\n",
       "    });\n",
       "}\n",
       "\n",
       "mpl.figure.prototype._canvas_extra_style = function(el){\n",
       "    // this is important to make the div 'focusable\n",
       "    el.attr('tabindex', 0)\n",
       "    // reach out to IPython and tell the keyboard manager to turn it's self\n",
       "    // off when our div gets focus\n",
       "\n",
       "    // location in version 3\n",
       "    if (IPython.notebook.keyboard_manager) {\n",
       "        IPython.notebook.keyboard_manager.register_events(el);\n",
       "    }\n",
       "    else {\n",
       "        // location in version 2\n",
       "        IPython.keyboard_manager.register_events(el);\n",
       "    }\n",
       "\n",
       "}\n",
       "\n",
       "mpl.figure.prototype._key_event_extra = function(event, name) {\n",
       "    var manager = IPython.notebook.keyboard_manager;\n",
       "    if (!manager)\n",
       "        manager = IPython.keyboard_manager;\n",
       "\n",
       "    // Check for shift+enter\n",
       "    if (event.shiftKey && event.which == 13) {\n",
       "        this.canvas_div.blur();\n",
       "        event.shiftKey = false;\n",
       "        // Send a \"J\" for go to next cell\n",
       "        event.which = 74;\n",
       "        event.keyCode = 74;\n",
       "        manager.command_mode();\n",
       "        manager.handle_keydown(event);\n",
       "    }\n",
       "}\n",
       "\n",
       "mpl.figure.prototype.handle_save = function(fig, msg) {\n",
       "    fig.ondownload(fig, null);\n",
       "}\n",
       "\n",
       "\n",
       "mpl.find_output_cell = function(html_output) {\n",
       "    // Return the cell and output element which can be found *uniquely* in the notebook.\n",
       "    // Note - this is a bit hacky, but it is done because the \"notebook_saving.Notebook\"\n",
       "    // IPython event is triggered only after the cells have been serialised, which for\n",
       "    // our purposes (turning an active figure into a static one), is too late.\n",
       "    var cells = IPython.notebook.get_cells();\n",
       "    var ncells = cells.length;\n",
       "    for (var i=0; i<ncells; i++) {\n",
       "        var cell = cells[i];\n",
       "        if (cell.cell_type === 'code'){\n",
       "            for (var j=0; j<cell.output_area.outputs.length; j++) {\n",
       "                var data = cell.output_area.outputs[j];\n",
       "                if (data.data) {\n",
       "                    // IPython >= 3 moved mimebundle to data attribute of output\n",
       "                    data = data.data;\n",
       "                }\n",
       "                if (data['text/html'] == html_output) {\n",
       "                    return [cell, data, j];\n",
       "                }\n",
       "            }\n",
       "        }\n",
       "    }\n",
       "}\n",
       "\n",
       "// Register the function which deals with the matplotlib target/channel.\n",
       "// The kernel may be null if the page has been refreshed.\n",
       "if (IPython.notebook.kernel != null) {\n",
       "    IPython.notebook.kernel.comm_manager.register_target('matplotlib', mpl.mpl_figure_comm);\n",
       "}\n"
      ],
      "text/plain": [
       "<IPython.core.display.Javascript object>"
      ]
     },
     "metadata": {},
     "output_type": "display_data"
    },
    {
     "data": {
      "text/html": [
       "<img src=\"data:image/png;base64,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\" width=\"1000\">"
      ],
      "text/plain": [
       "<IPython.core.display.HTML object>"
      ]
     },
     "metadata": {},
     "output_type": "display_data"
    }
   ],
   "source": [
    "lw=2\n",
    "fpr, tpr, thresholds = roc_curve(y_test, pred_rf_proba[:, 1])\n",
    "roc_auc= auc(fpr, tpr)\n",
    "plt.figure()\n",
    "plt.plot(fpr, tpr, color='darkorange',\n",
    "         lw=lw, label='ROC curve (area = %0.2f)' % roc_auc)\n",
    "plt.plot([0, 1], [0, 1], color='navy', lw=lw, linestyle='--')\n",
    "plt.xlim([0.0, 1.0])\n",
    "plt.ylim([0.0, 1.05])\n",
    "plt.xlabel('False Positive Rate')\n",
    "plt.ylabel('True Positive Rate')\n",
    "plt.title('Receiver operating characteristic example')\n",
    "plt.legend(loc=\"lower right\")\n",
    "plt.show()"
   ]
  },
  {
   "cell_type": "code",
   "execution_count": 142,
   "metadata": {
    "ExecuteTime": {
     "end_time": "2020-02-13T06:53:35.818056Z",
     "start_time": "2020-02-13T06:53:35.805091Z"
    }
   },
   "outputs": [
    {
     "data": {
      "text/plain": [
       "[0.24608450217470523,\n",
       " 0.2198450313322427,\n",
       " 0.16846343414766546,\n",
       " 0.14101389678744994,\n",
       " 0.10998644646356048,\n",
       " 0.03759382669951182,\n",
       " 0.03483410070847907,\n",
       " 0.01829770660663956,\n",
       " 0.015331644214131187,\n",
       " 0.008549410865614698]"
      ]
     },
     "execution_count": 142,
     "metadata": {},
     "output_type": "execute_result"
    }
   ],
   "source": [
    "sorted(best_clf_rf.feature_importances_)[::-1]"
   ]
  },
  {
   "cell_type": "code",
   "execution_count": 148,
   "metadata": {
    "ExecuteTime": {
     "end_time": "2020-02-13T06:57:38.680538Z",
     "start_time": "2020-02-13T06:57:38.660592Z"
    }
   },
   "outputs": [
    {
     "data": {
      "text/html": [
       "<div>\n",
       "<style scoped>\n",
       "    .dataframe tbody tr th:only-of-type {\n",
       "        vertical-align: middle;\n",
       "    }\n",
       "\n",
       "    .dataframe tbody tr th {\n",
       "        vertical-align: top;\n",
       "    }\n",
       "\n",
       "    .dataframe thead th {\n",
       "        text-align: right;\n",
       "    }\n",
       "</style>\n",
       "<table border=\"1\" class=\"dataframe\">\n",
       "  <thead>\n",
       "    <tr style=\"text-align: right;\">\n",
       "      <th></th>\n",
       "      <th>features</th>\n",
       "      <th>feature_importances</th>\n",
       "    </tr>\n",
       "  </thead>\n",
       "  <tbody>\n",
       "    <tr>\n",
       "      <th>6</th>\n",
       "      <td>Sex_male</td>\n",
       "      <td>0.246085</td>\n",
       "    </tr>\n",
       "    <tr>\n",
       "      <th>5</th>\n",
       "      <td>Sex_female</td>\n",
       "      <td>0.219845</td>\n",
       "    </tr>\n",
       "    <tr>\n",
       "      <th>4</th>\n",
       "      <td>Fare</td>\n",
       "      <td>0.168463</td>\n",
       "    </tr>\n",
       "    <tr>\n",
       "      <th>1</th>\n",
       "      <td>Age</td>\n",
       "      <td>0.141014</td>\n",
       "    </tr>\n",
       "    <tr>\n",
       "      <th>0</th>\n",
       "      <td>Pclass</td>\n",
       "      <td>0.109986</td>\n",
       "    </tr>\n",
       "    <tr>\n",
       "      <th>2</th>\n",
       "      <td>SibSp</td>\n",
       "      <td>0.037594</td>\n",
       "    </tr>\n",
       "    <tr>\n",
       "      <th>3</th>\n",
       "      <td>Parch</td>\n",
       "      <td>0.034834</td>\n",
       "    </tr>\n",
       "    <tr>\n",
       "      <th>7</th>\n",
       "      <td>Embarked_C</td>\n",
       "      <td>0.018298</td>\n",
       "    </tr>\n",
       "    <tr>\n",
       "      <th>9</th>\n",
       "      <td>Embarked_S</td>\n",
       "      <td>0.015332</td>\n",
       "    </tr>\n",
       "    <tr>\n",
       "      <th>8</th>\n",
       "      <td>Embarked_Q</td>\n",
       "      <td>0.008549</td>\n",
       "    </tr>\n",
       "  </tbody>\n",
       "</table>\n",
       "</div>"
      ],
      "text/plain": [
       "     features  feature_importances\n",
       "6    Sex_male             0.246085\n",
       "5  Sex_female             0.219845\n",
       "4        Fare             0.168463\n",
       "1         Age             0.141014\n",
       "0      Pclass             0.109986\n",
       "2       SibSp             0.037594\n",
       "3       Parch             0.034834\n",
       "7  Embarked_C             0.018298\n",
       "9  Embarked_S             0.015332\n",
       "8  Embarked_Q             0.008549"
      ]
     },
     "execution_count": 148,
     "metadata": {},
     "output_type": "execute_result"
    }
   ],
   "source": [
    "feature_importances = best_clf_rf.feature_importances_\n",
    "feature_importances_df = pd.DataFrame({'features': X_train.columns, 'feature_importances': feature_importances})\n",
    "feature_importances_df.sort_values(by='feature_importances', ascending=False)"
   ]
  },
  {
   "cell_type": "code",
   "execution_count": null,
   "metadata": {},
   "outputs": [],
   "source": []
  }
 ],
 "metadata": {
  "kernelspec": {
   "display_name": "Python 3",
   "language": "python",
   "name": "python3"
  },
  "language_info": {
   "codemirror_mode": {
    "name": "ipython",
    "version": 3
   },
   "file_extension": ".py",
   "mimetype": "text/x-python",
   "name": "python",
   "nbconvert_exporter": "python",
   "pygments_lexer": "ipython3",
   "version": "3.7.3"
  }
 },
 "nbformat": 4,
 "nbformat_minor": 2
}
